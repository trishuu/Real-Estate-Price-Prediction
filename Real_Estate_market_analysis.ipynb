{
  "cells": [
    {
      "cell_type": "code",
      "execution_count": 1,
      "metadata": {
        "id": "qGYhxmy9nvr7"
      },
      "outputs": [],
      "source": [
        "import pandas as pd"
      ]
    },
    {
      "cell_type": "code",
      "execution_count": 52,
      "metadata": {
        "id": "GN67nRQPolI3"
      },
      "outputs": [],
      "source": [
        "data = pd.read_csv('realtor-data.zip.csv')"
      ]
    },
    {
      "cell_type": "code",
      "execution_count": 53,
      "metadata": {
        "colab": {
          "base_uri": "https://localhost:8080/",
          "height": 676
        },
        "id": "Ll7lFI7Jor-_",
        "outputId": "23f00bdf-51a3-4367-b2ba-052646e3f528"
      },
      "outputs": [
        {
          "data": {
            "text/html": [
              "<div>\n",
              "<style scoped>\n",
              "    .dataframe tbody tr th:only-of-type {\n",
              "        vertical-align: middle;\n",
              "    }\n",
              "\n",
              "    .dataframe tbody tr th {\n",
              "        vertical-align: top;\n",
              "    }\n",
              "\n",
              "    .dataframe thead th {\n",
              "        text-align: right;\n",
              "    }\n",
              "</style>\n",
              "<table border=\"1\" class=\"dataframe\">\n",
              "  <thead>\n",
              "    <tr style=\"text-align: right;\">\n",
              "      <th></th>\n",
              "      <th>brokered_by</th>\n",
              "      <th>status</th>\n",
              "      <th>price</th>\n",
              "      <th>bed</th>\n",
              "      <th>bath</th>\n",
              "      <th>acre_lot</th>\n",
              "      <th>street</th>\n",
              "      <th>city</th>\n",
              "      <th>state</th>\n",
              "      <th>zip_code</th>\n",
              "      <th>house_size</th>\n",
              "      <th>prev_sold_date</th>\n",
              "    </tr>\n",
              "  </thead>\n",
              "  <tbody>\n",
              "    <tr>\n",
              "      <th>0</th>\n",
              "      <td>103378.0</td>\n",
              "      <td>for_sale</td>\n",
              "      <td>105000.0</td>\n",
              "      <td>3.0</td>\n",
              "      <td>2.0</td>\n",
              "      <td>0.12</td>\n",
              "      <td>1962661.0</td>\n",
              "      <td>Adjuntas</td>\n",
              "      <td>Puerto Rico</td>\n",
              "      <td>601.0</td>\n",
              "      <td>920.0</td>\n",
              "      <td>NaN</td>\n",
              "    </tr>\n",
              "    <tr>\n",
              "      <th>1</th>\n",
              "      <td>52707.0</td>\n",
              "      <td>for_sale</td>\n",
              "      <td>80000.0</td>\n",
              "      <td>4.0</td>\n",
              "      <td>2.0</td>\n",
              "      <td>0.08</td>\n",
              "      <td>1902874.0</td>\n",
              "      <td>Adjuntas</td>\n",
              "      <td>Puerto Rico</td>\n",
              "      <td>601.0</td>\n",
              "      <td>1527.0</td>\n",
              "      <td>NaN</td>\n",
              "    </tr>\n",
              "    <tr>\n",
              "      <th>2</th>\n",
              "      <td>103379.0</td>\n",
              "      <td>for_sale</td>\n",
              "      <td>67000.0</td>\n",
              "      <td>2.0</td>\n",
              "      <td>1.0</td>\n",
              "      <td>0.15</td>\n",
              "      <td>1404990.0</td>\n",
              "      <td>Juana Diaz</td>\n",
              "      <td>Puerto Rico</td>\n",
              "      <td>795.0</td>\n",
              "      <td>748.0</td>\n",
              "      <td>NaN</td>\n",
              "    </tr>\n",
              "    <tr>\n",
              "      <th>3</th>\n",
              "      <td>31239.0</td>\n",
              "      <td>for_sale</td>\n",
              "      <td>145000.0</td>\n",
              "      <td>4.0</td>\n",
              "      <td>2.0</td>\n",
              "      <td>0.10</td>\n",
              "      <td>1947675.0</td>\n",
              "      <td>Ponce</td>\n",
              "      <td>Puerto Rico</td>\n",
              "      <td>731.0</td>\n",
              "      <td>1800.0</td>\n",
              "      <td>NaN</td>\n",
              "    </tr>\n",
              "    <tr>\n",
              "      <th>4</th>\n",
              "      <td>34632.0</td>\n",
              "      <td>for_sale</td>\n",
              "      <td>65000.0</td>\n",
              "      <td>6.0</td>\n",
              "      <td>2.0</td>\n",
              "      <td>0.05</td>\n",
              "      <td>331151.0</td>\n",
              "      <td>Mayaguez</td>\n",
              "      <td>Puerto Rico</td>\n",
              "      <td>680.0</td>\n",
              "      <td>NaN</td>\n",
              "      <td>NaN</td>\n",
              "    </tr>\n",
              "    <tr>\n",
              "      <th>5</th>\n",
              "      <td>103378.0</td>\n",
              "      <td>for_sale</td>\n",
              "      <td>179000.0</td>\n",
              "      <td>4.0</td>\n",
              "      <td>3.0</td>\n",
              "      <td>0.46</td>\n",
              "      <td>1850806.0</td>\n",
              "      <td>San Sebastian</td>\n",
              "      <td>Puerto Rico</td>\n",
              "      <td>612.0</td>\n",
              "      <td>2520.0</td>\n",
              "      <td>NaN</td>\n",
              "    </tr>\n",
              "    <tr>\n",
              "      <th>6</th>\n",
              "      <td>1205.0</td>\n",
              "      <td>for_sale</td>\n",
              "      <td>50000.0</td>\n",
              "      <td>3.0</td>\n",
              "      <td>1.0</td>\n",
              "      <td>0.20</td>\n",
              "      <td>1298094.0</td>\n",
              "      <td>Ciales</td>\n",
              "      <td>Puerto Rico</td>\n",
              "      <td>639.0</td>\n",
              "      <td>2040.0</td>\n",
              "      <td>NaN</td>\n",
              "    </tr>\n",
              "    <tr>\n",
              "      <th>7</th>\n",
              "      <td>50739.0</td>\n",
              "      <td>for_sale</td>\n",
              "      <td>71600.0</td>\n",
              "      <td>3.0</td>\n",
              "      <td>2.0</td>\n",
              "      <td>0.08</td>\n",
              "      <td>1048466.0</td>\n",
              "      <td>Ponce</td>\n",
              "      <td>Puerto Rico</td>\n",
              "      <td>731.0</td>\n",
              "      <td>1050.0</td>\n",
              "      <td>NaN</td>\n",
              "    </tr>\n",
              "    <tr>\n",
              "      <th>8</th>\n",
              "      <td>81909.0</td>\n",
              "      <td>for_sale</td>\n",
              "      <td>100000.0</td>\n",
              "      <td>2.0</td>\n",
              "      <td>1.0</td>\n",
              "      <td>0.09</td>\n",
              "      <td>734904.0</td>\n",
              "      <td>Ponce</td>\n",
              "      <td>Puerto Rico</td>\n",
              "      <td>730.0</td>\n",
              "      <td>1092.0</td>\n",
              "      <td>NaN</td>\n",
              "    </tr>\n",
              "    <tr>\n",
              "      <th>9</th>\n",
              "      <td>65672.0</td>\n",
              "      <td>for_sale</td>\n",
              "      <td>300000.0</td>\n",
              "      <td>5.0</td>\n",
              "      <td>3.0</td>\n",
              "      <td>7.46</td>\n",
              "      <td>1946226.0</td>\n",
              "      <td>Las Marias</td>\n",
              "      <td>Puerto Rico</td>\n",
              "      <td>670.0</td>\n",
              "      <td>5403.0</td>\n",
              "      <td>NaN</td>\n",
              "    </tr>\n",
              "    <tr>\n",
              "      <th>10</th>\n",
              "      <td>52707.0</td>\n",
              "      <td>for_sale</td>\n",
              "      <td>89000.0</td>\n",
              "      <td>3.0</td>\n",
              "      <td>2.0</td>\n",
              "      <td>13.39</td>\n",
              "      <td>1902814.0</td>\n",
              "      <td>Isabela</td>\n",
              "      <td>Puerto Rico</td>\n",
              "      <td>662.0</td>\n",
              "      <td>1106.0</td>\n",
              "      <td>NaN</td>\n",
              "    </tr>\n",
              "    <tr>\n",
              "      <th>11</th>\n",
              "      <td>52707.0</td>\n",
              "      <td>for_sale</td>\n",
              "      <td>150000.0</td>\n",
              "      <td>3.0</td>\n",
              "      <td>2.0</td>\n",
              "      <td>0.08</td>\n",
              "      <td>1773902.0</td>\n",
              "      <td>Juana Diaz</td>\n",
              "      <td>Puerto Rico</td>\n",
              "      <td>795.0</td>\n",
              "      <td>1045.0</td>\n",
              "      <td>NaN</td>\n",
              "    </tr>\n",
              "    <tr>\n",
              "      <th>12</th>\n",
              "      <td>46019.0</td>\n",
              "      <td>for_sale</td>\n",
              "      <td>155000.0</td>\n",
              "      <td>3.0</td>\n",
              "      <td>2.0</td>\n",
              "      <td>0.10</td>\n",
              "      <td>1946165.0</td>\n",
              "      <td>Lares</td>\n",
              "      <td>Puerto Rico</td>\n",
              "      <td>669.0</td>\n",
              "      <td>4161.0</td>\n",
              "      <td>NaN</td>\n",
              "    </tr>\n",
              "    <tr>\n",
              "      <th>13</th>\n",
              "      <td>52707.0</td>\n",
              "      <td>for_sale</td>\n",
              "      <td>79000.0</td>\n",
              "      <td>5.0</td>\n",
              "      <td>2.0</td>\n",
              "      <td>0.12</td>\n",
              "      <td>1761024.0</td>\n",
              "      <td>Utuado</td>\n",
              "      <td>Puerto Rico</td>\n",
              "      <td>641.0</td>\n",
              "      <td>1620.0</td>\n",
              "      <td>NaN</td>\n",
              "    </tr>\n",
              "    <tr>\n",
              "      <th>14</th>\n",
              "      <td>88441.0</td>\n",
              "      <td>for_sale</td>\n",
              "      <td>649000.0</td>\n",
              "      <td>5.0</td>\n",
              "      <td>5.0</td>\n",
              "      <td>0.74</td>\n",
              "      <td>1879215.0</td>\n",
              "      <td>Ponce</td>\n",
              "      <td>Puerto Rico</td>\n",
              "      <td>731.0</td>\n",
              "      <td>2677.0</td>\n",
              "      <td>NaN</td>\n",
              "    </tr>\n",
              "    <tr>\n",
              "      <th>15</th>\n",
              "      <td>50739.0</td>\n",
              "      <td>for_sale</td>\n",
              "      <td>120000.0</td>\n",
              "      <td>3.0</td>\n",
              "      <td>2.0</td>\n",
              "      <td>0.08</td>\n",
              "      <td>17854.0</td>\n",
              "      <td>Yauco</td>\n",
              "      <td>Puerto Rico</td>\n",
              "      <td>698.0</td>\n",
              "      <td>1100.0</td>\n",
              "      <td>NaN</td>\n",
              "    </tr>\n",
              "    <tr>\n",
              "      <th>16</th>\n",
              "      <td>51202.0</td>\n",
              "      <td>for_sale</td>\n",
              "      <td>235000.0</td>\n",
              "      <td>4.0</td>\n",
              "      <td>4.0</td>\n",
              "      <td>0.22</td>\n",
              "      <td>13687.0</td>\n",
              "      <td>Mayaguez</td>\n",
              "      <td>Puerto Rico</td>\n",
              "      <td>680.0</td>\n",
              "      <td>3450.0</td>\n",
              "      <td>NaN</td>\n",
              "    </tr>\n",
              "    <tr>\n",
              "      <th>17</th>\n",
              "      <td>12876.0</td>\n",
              "      <td>for_sale</td>\n",
              "      <td>105000.0</td>\n",
              "      <td>3.0</td>\n",
              "      <td>2.0</td>\n",
              "      <td>0.08</td>\n",
              "      <td>1868721.0</td>\n",
              "      <td>Ponce</td>\n",
              "      <td>Puerto Rico</td>\n",
              "      <td>728.0</td>\n",
              "      <td>1500.0</td>\n",
              "      <td>NaN</td>\n",
              "    </tr>\n",
              "    <tr>\n",
              "      <th>18</th>\n",
              "      <td>109906.0</td>\n",
              "      <td>for_sale</td>\n",
              "      <td>575000.0</td>\n",
              "      <td>3.0</td>\n",
              "      <td>2.0</td>\n",
              "      <td>3.88</td>\n",
              "      <td>1312671.0</td>\n",
              "      <td>San Sebastian</td>\n",
              "      <td>Puerto Rico</td>\n",
              "      <td>685.0</td>\n",
              "      <td>4000.0</td>\n",
              "      <td>NaN</td>\n",
              "    </tr>\n",
              "    <tr>\n",
              "      <th>19</th>\n",
              "      <td>46019.0</td>\n",
              "      <td>for_sale</td>\n",
              "      <td>140000.0</td>\n",
              "      <td>6.0</td>\n",
              "      <td>3.0</td>\n",
              "      <td>0.25</td>\n",
              "      <td>6710.0</td>\n",
              "      <td>Anasco</td>\n",
              "      <td>Puerto Rico</td>\n",
              "      <td>610.0</td>\n",
              "      <td>1230.0</td>\n",
              "      <td>NaN</td>\n",
              "    </tr>\n",
              "  </tbody>\n",
              "</table>\n",
              "</div>"
            ],
            "text/plain": [
              "    brokered_by    status     price  bed  bath  acre_lot     street  \\\n",
              "0      103378.0  for_sale  105000.0  3.0   2.0      0.12  1962661.0   \n",
              "1       52707.0  for_sale   80000.0  4.0   2.0      0.08  1902874.0   \n",
              "2      103379.0  for_sale   67000.0  2.0   1.0      0.15  1404990.0   \n",
              "3       31239.0  for_sale  145000.0  4.0   2.0      0.10  1947675.0   \n",
              "4       34632.0  for_sale   65000.0  6.0   2.0      0.05   331151.0   \n",
              "5      103378.0  for_sale  179000.0  4.0   3.0      0.46  1850806.0   \n",
              "6        1205.0  for_sale   50000.0  3.0   1.0      0.20  1298094.0   \n",
              "7       50739.0  for_sale   71600.0  3.0   2.0      0.08  1048466.0   \n",
              "8       81909.0  for_sale  100000.0  2.0   1.0      0.09   734904.0   \n",
              "9       65672.0  for_sale  300000.0  5.0   3.0      7.46  1946226.0   \n",
              "10      52707.0  for_sale   89000.0  3.0   2.0     13.39  1902814.0   \n",
              "11      52707.0  for_sale  150000.0  3.0   2.0      0.08  1773902.0   \n",
              "12      46019.0  for_sale  155000.0  3.0   2.0      0.10  1946165.0   \n",
              "13      52707.0  for_sale   79000.0  5.0   2.0      0.12  1761024.0   \n",
              "14      88441.0  for_sale  649000.0  5.0   5.0      0.74  1879215.0   \n",
              "15      50739.0  for_sale  120000.0  3.0   2.0      0.08    17854.0   \n",
              "16      51202.0  for_sale  235000.0  4.0   4.0      0.22    13687.0   \n",
              "17      12876.0  for_sale  105000.0  3.0   2.0      0.08  1868721.0   \n",
              "18     109906.0  for_sale  575000.0  3.0   2.0      3.88  1312671.0   \n",
              "19      46019.0  for_sale  140000.0  6.0   3.0      0.25     6710.0   \n",
              "\n",
              "             city        state  zip_code  house_size prev_sold_date  \n",
              "0        Adjuntas  Puerto Rico     601.0       920.0            NaN  \n",
              "1        Adjuntas  Puerto Rico     601.0      1527.0            NaN  \n",
              "2      Juana Diaz  Puerto Rico     795.0       748.0            NaN  \n",
              "3           Ponce  Puerto Rico     731.0      1800.0            NaN  \n",
              "4        Mayaguez  Puerto Rico     680.0         NaN            NaN  \n",
              "5   San Sebastian  Puerto Rico     612.0      2520.0            NaN  \n",
              "6          Ciales  Puerto Rico     639.0      2040.0            NaN  \n",
              "7           Ponce  Puerto Rico     731.0      1050.0            NaN  \n",
              "8           Ponce  Puerto Rico     730.0      1092.0            NaN  \n",
              "9      Las Marias  Puerto Rico     670.0      5403.0            NaN  \n",
              "10        Isabela  Puerto Rico     662.0      1106.0            NaN  \n",
              "11     Juana Diaz  Puerto Rico     795.0      1045.0            NaN  \n",
              "12          Lares  Puerto Rico     669.0      4161.0            NaN  \n",
              "13         Utuado  Puerto Rico     641.0      1620.0            NaN  \n",
              "14          Ponce  Puerto Rico     731.0      2677.0            NaN  \n",
              "15          Yauco  Puerto Rico     698.0      1100.0            NaN  \n",
              "16       Mayaguez  Puerto Rico     680.0      3450.0            NaN  \n",
              "17          Ponce  Puerto Rico     728.0      1500.0            NaN  \n",
              "18  San Sebastian  Puerto Rico     685.0      4000.0            NaN  \n",
              "19         Anasco  Puerto Rico     610.0      1230.0            NaN  "
            ]
          },
          "execution_count": 53,
          "metadata": {},
          "output_type": "execute_result"
        }
      ],
      "source": [
        "data.head(20)"
      ]
    },
    {
      "cell_type": "code",
      "execution_count": 54,
      "metadata": {
        "colab": {
          "base_uri": "https://localhost:8080/",
          "height": 206
        },
        "id": "-QTI0NA8o3jw",
        "outputId": "e33db793-6585-479e-c59f-434507deb704"
      },
      "outputs": [
        {
          "data": {
            "text/html": [
              "<div>\n",
              "<style scoped>\n",
              "    .dataframe tbody tr th:only-of-type {\n",
              "        vertical-align: middle;\n",
              "    }\n",
              "\n",
              "    .dataframe tbody tr th {\n",
              "        vertical-align: top;\n",
              "    }\n",
              "\n",
              "    .dataframe thead th {\n",
              "        text-align: right;\n",
              "    }\n",
              "</style>\n",
              "<table border=\"1\" class=\"dataframe\">\n",
              "  <thead>\n",
              "    <tr style=\"text-align: right;\">\n",
              "      <th></th>\n",
              "      <th>brokered_by</th>\n",
              "      <th>status</th>\n",
              "      <th>price</th>\n",
              "      <th>bed</th>\n",
              "      <th>bath</th>\n",
              "      <th>acre_lot</th>\n",
              "      <th>street</th>\n",
              "      <th>city</th>\n",
              "      <th>state</th>\n",
              "      <th>zip_code</th>\n",
              "      <th>house_size</th>\n",
              "      <th>prev_sold_date</th>\n",
              "    </tr>\n",
              "  </thead>\n",
              "  <tbody>\n",
              "    <tr>\n",
              "      <th>2226377</th>\n",
              "      <td>23009.0</td>\n",
              "      <td>sold</td>\n",
              "      <td>359900.0</td>\n",
              "      <td>4.0</td>\n",
              "      <td>2.0</td>\n",
              "      <td>0.33</td>\n",
              "      <td>353094.0</td>\n",
              "      <td>Richland</td>\n",
              "      <td>Washington</td>\n",
              "      <td>99354.0</td>\n",
              "      <td>3600.0</td>\n",
              "      <td>2022-03-25</td>\n",
              "    </tr>\n",
              "    <tr>\n",
              "      <th>2226378</th>\n",
              "      <td>18208.0</td>\n",
              "      <td>sold</td>\n",
              "      <td>350000.0</td>\n",
              "      <td>3.0</td>\n",
              "      <td>2.0</td>\n",
              "      <td>0.10</td>\n",
              "      <td>1062149.0</td>\n",
              "      <td>Richland</td>\n",
              "      <td>Washington</td>\n",
              "      <td>99354.0</td>\n",
              "      <td>1616.0</td>\n",
              "      <td>2022-03-25</td>\n",
              "    </tr>\n",
              "    <tr>\n",
              "      <th>2226379</th>\n",
              "      <td>76856.0</td>\n",
              "      <td>sold</td>\n",
              "      <td>440000.0</td>\n",
              "      <td>6.0</td>\n",
              "      <td>3.0</td>\n",
              "      <td>0.50</td>\n",
              "      <td>405677.0</td>\n",
              "      <td>Richland</td>\n",
              "      <td>Washington</td>\n",
              "      <td>99354.0</td>\n",
              "      <td>3200.0</td>\n",
              "      <td>2022-03-24</td>\n",
              "    </tr>\n",
              "    <tr>\n",
              "      <th>2226380</th>\n",
              "      <td>53618.0</td>\n",
              "      <td>sold</td>\n",
              "      <td>179900.0</td>\n",
              "      <td>2.0</td>\n",
              "      <td>1.0</td>\n",
              "      <td>0.09</td>\n",
              "      <td>761379.0</td>\n",
              "      <td>Richland</td>\n",
              "      <td>Washington</td>\n",
              "      <td>99354.0</td>\n",
              "      <td>933.0</td>\n",
              "      <td>2022-03-24</td>\n",
              "    </tr>\n",
              "    <tr>\n",
              "      <th>2226381</th>\n",
              "      <td>108243.0</td>\n",
              "      <td>sold</td>\n",
              "      <td>580000.0</td>\n",
              "      <td>5.0</td>\n",
              "      <td>3.0</td>\n",
              "      <td>0.31</td>\n",
              "      <td>307704.0</td>\n",
              "      <td>Richland</td>\n",
              "      <td>Washington</td>\n",
              "      <td>99354.0</td>\n",
              "      <td>3615.0</td>\n",
              "      <td>2022-03-23</td>\n",
              "    </tr>\n",
              "  </tbody>\n",
              "</table>\n",
              "</div>"
            ],
            "text/plain": [
              "         brokered_by status     price  bed  bath  acre_lot     street  \\\n",
              "2226377      23009.0   sold  359900.0  4.0   2.0      0.33   353094.0   \n",
              "2226378      18208.0   sold  350000.0  3.0   2.0      0.10  1062149.0   \n",
              "2226379      76856.0   sold  440000.0  6.0   3.0      0.50   405677.0   \n",
              "2226380      53618.0   sold  179900.0  2.0   1.0      0.09   761379.0   \n",
              "2226381     108243.0   sold  580000.0  5.0   3.0      0.31   307704.0   \n",
              "\n",
              "             city       state  zip_code  house_size prev_sold_date  \n",
              "2226377  Richland  Washington   99354.0      3600.0     2022-03-25  \n",
              "2226378  Richland  Washington   99354.0      1616.0     2022-03-25  \n",
              "2226379  Richland  Washington   99354.0      3200.0     2022-03-24  \n",
              "2226380  Richland  Washington   99354.0       933.0     2022-03-24  \n",
              "2226381  Richland  Washington   99354.0      3615.0     2022-03-23  "
            ]
          },
          "execution_count": 54,
          "metadata": {},
          "output_type": "execute_result"
        }
      ],
      "source": [
        "data.tail()"
      ]
    },
    {
      "cell_type": "code",
      "execution_count": 55,
      "metadata": {
        "colab": {
          "base_uri": "https://localhost:8080/"
        },
        "id": "S2Y0hj4lpF-Z",
        "outputId": "5a89eb51-90b3-4304-8998-094fb4569a47"
      },
      "outputs": [
        {
          "name": "stdout",
          "output_type": "stream",
          "text": [
            "<class 'pandas.core.frame.DataFrame'>\n",
            "RangeIndex: 2226382 entries, 0 to 2226381\n",
            "Data columns (total 12 columns):\n",
            " #   Column          Dtype  \n",
            "---  ------          -----  \n",
            " 0   brokered_by     float64\n",
            " 1   status          object \n",
            " 2   price           float64\n",
            " 3   bed             float64\n",
            " 4   bath            float64\n",
            " 5   acre_lot        float64\n",
            " 6   street          float64\n",
            " 7   city            object \n",
            " 8   state           object \n",
            " 9   zip_code        float64\n",
            " 10  house_size      float64\n",
            " 11  prev_sold_date  object \n",
            "dtypes: float64(8), object(4)\n",
            "memory usage: 203.8+ MB\n"
          ]
        }
      ],
      "source": [
        "data.info()"
      ]
    },
    {
      "cell_type": "code",
      "execution_count": 56,
      "metadata": {
        "colab": {
          "base_uri": "https://localhost:8080/",
          "height": 300
        },
        "id": "fXnX7WJ5pUfb",
        "outputId": "daebd153-3fd1-4720-c880-2f9cde3e781d"
      },
      "outputs": [
        {
          "data": {
            "text/html": [
              "<div>\n",
              "<style scoped>\n",
              "    .dataframe tbody tr th:only-of-type {\n",
              "        vertical-align: middle;\n",
              "    }\n",
              "\n",
              "    .dataframe tbody tr th {\n",
              "        vertical-align: top;\n",
              "    }\n",
              "\n",
              "    .dataframe thead th {\n",
              "        text-align: right;\n",
              "    }\n",
              "</style>\n",
              "<table border=\"1\" class=\"dataframe\">\n",
              "  <thead>\n",
              "    <tr style=\"text-align: right;\">\n",
              "      <th></th>\n",
              "      <th>brokered_by</th>\n",
              "      <th>price</th>\n",
              "      <th>bed</th>\n",
              "      <th>bath</th>\n",
              "      <th>acre_lot</th>\n",
              "      <th>street</th>\n",
              "      <th>zip_code</th>\n",
              "      <th>house_size</th>\n",
              "    </tr>\n",
              "  </thead>\n",
              "  <tbody>\n",
              "    <tr>\n",
              "      <th>count</th>\n",
              "      <td>2.221849e+06</td>\n",
              "      <td>2.224841e+06</td>\n",
              "      <td>1.745065e+06</td>\n",
              "      <td>1.714611e+06</td>\n",
              "      <td>1.900793e+06</td>\n",
              "      <td>2.215516e+06</td>\n",
              "      <td>2.226083e+06</td>\n",
              "      <td>1.657898e+06</td>\n",
              "    </tr>\n",
              "    <tr>\n",
              "      <th>mean</th>\n",
              "      <td>5.293989e+04</td>\n",
              "      <td>5.241955e+05</td>\n",
              "      <td>3.275841e+00</td>\n",
              "      <td>2.496440e+00</td>\n",
              "      <td>1.522303e+01</td>\n",
              "      <td>1.012325e+06</td>\n",
              "      <td>5.218668e+04</td>\n",
              "      <td>2.714471e+03</td>\n",
              "    </tr>\n",
              "    <tr>\n",
              "      <th>std</th>\n",
              "      <td>3.064275e+04</td>\n",
              "      <td>2.138893e+06</td>\n",
              "      <td>1.567274e+00</td>\n",
              "      <td>1.652573e+00</td>\n",
              "      <td>7.628238e+02</td>\n",
              "      <td>5.837635e+05</td>\n",
              "      <td>2.895408e+04</td>\n",
              "      <td>8.081635e+05</td>\n",
              "    </tr>\n",
              "    <tr>\n",
              "      <th>min</th>\n",
              "      <td>0.000000e+00</td>\n",
              "      <td>0.000000e+00</td>\n",
              "      <td>1.000000e+00</td>\n",
              "      <td>1.000000e+00</td>\n",
              "      <td>0.000000e+00</td>\n",
              "      <td>0.000000e+00</td>\n",
              "      <td>0.000000e+00</td>\n",
              "      <td>4.000000e+00</td>\n",
              "    </tr>\n",
              "    <tr>\n",
              "      <th>25%</th>\n",
              "      <td>2.386100e+04</td>\n",
              "      <td>1.650000e+05</td>\n",
              "      <td>3.000000e+00</td>\n",
              "      <td>2.000000e+00</td>\n",
              "      <td>1.500000e-01</td>\n",
              "      <td>5.063128e+05</td>\n",
              "      <td>2.961700e+04</td>\n",
              "      <td>1.300000e+03</td>\n",
              "    </tr>\n",
              "    <tr>\n",
              "      <th>50%</th>\n",
              "      <td>5.288400e+04</td>\n",
              "      <td>3.250000e+05</td>\n",
              "      <td>3.000000e+00</td>\n",
              "      <td>2.000000e+00</td>\n",
              "      <td>2.600000e-01</td>\n",
              "      <td>1.012766e+06</td>\n",
              "      <td>4.838200e+04</td>\n",
              "      <td>1.760000e+03</td>\n",
              "    </tr>\n",
              "    <tr>\n",
              "      <th>75%</th>\n",
              "      <td>7.918300e+04</td>\n",
              "      <td>5.500000e+05</td>\n",
              "      <td>4.000000e+00</td>\n",
              "      <td>3.000000e+00</td>\n",
              "      <td>9.800000e-01</td>\n",
              "      <td>1.521173e+06</td>\n",
              "      <td>7.807000e+04</td>\n",
              "      <td>2.413000e+03</td>\n",
              "    </tr>\n",
              "    <tr>\n",
              "      <th>max</th>\n",
              "      <td>1.101420e+05</td>\n",
              "      <td>2.147484e+09</td>\n",
              "      <td>4.730000e+02</td>\n",
              "      <td>8.300000e+02</td>\n",
              "      <td>1.000000e+05</td>\n",
              "      <td>2.001357e+06</td>\n",
              "      <td>9.999900e+04</td>\n",
              "      <td>1.040400e+09</td>\n",
              "    </tr>\n",
              "  </tbody>\n",
              "</table>\n",
              "</div>"
            ],
            "text/plain": [
              "        brokered_by         price           bed          bath      acre_lot  \\\n",
              "count  2.221849e+06  2.224841e+06  1.745065e+06  1.714611e+06  1.900793e+06   \n",
              "mean   5.293989e+04  5.241955e+05  3.275841e+00  2.496440e+00  1.522303e+01   \n",
              "std    3.064275e+04  2.138893e+06  1.567274e+00  1.652573e+00  7.628238e+02   \n",
              "min    0.000000e+00  0.000000e+00  1.000000e+00  1.000000e+00  0.000000e+00   \n",
              "25%    2.386100e+04  1.650000e+05  3.000000e+00  2.000000e+00  1.500000e-01   \n",
              "50%    5.288400e+04  3.250000e+05  3.000000e+00  2.000000e+00  2.600000e-01   \n",
              "75%    7.918300e+04  5.500000e+05  4.000000e+00  3.000000e+00  9.800000e-01   \n",
              "max    1.101420e+05  2.147484e+09  4.730000e+02  8.300000e+02  1.000000e+05   \n",
              "\n",
              "             street      zip_code    house_size  \n",
              "count  2.215516e+06  2.226083e+06  1.657898e+06  \n",
              "mean   1.012325e+06  5.218668e+04  2.714471e+03  \n",
              "std    5.837635e+05  2.895408e+04  8.081635e+05  \n",
              "min    0.000000e+00  0.000000e+00  4.000000e+00  \n",
              "25%    5.063128e+05  2.961700e+04  1.300000e+03  \n",
              "50%    1.012766e+06  4.838200e+04  1.760000e+03  \n",
              "75%    1.521173e+06  7.807000e+04  2.413000e+03  \n",
              "max    2.001357e+06  9.999900e+04  1.040400e+09  "
            ]
          },
          "execution_count": 56,
          "metadata": {},
          "output_type": "execute_result"
        }
      ],
      "source": [
        "data.describe()"
      ]
    },
    {
      "cell_type": "code",
      "execution_count": 57,
      "metadata": {
        "colab": {
          "base_uri": "https://localhost:8080/",
          "height": 460
        },
        "id": "3usVqO9spYMR",
        "outputId": "c7c48873-7389-49a1-b9c1-4a8d7c838ac0"
      },
      "outputs": [
        {
          "data": {
            "text/plain": [
              "brokered_by         4533\n",
              "status                 0\n",
              "price               1541\n",
              "bed               481317\n",
              "bath              511771\n",
              "acre_lot          325589\n",
              "street             10866\n",
              "city                1407\n",
              "state                  8\n",
              "zip_code             299\n",
              "house_size        568484\n",
              "prev_sold_date    734297\n",
              "dtype: int64"
            ]
          },
          "execution_count": 57,
          "metadata": {},
          "output_type": "execute_result"
        }
      ],
      "source": [
        "data.isna().sum()"
      ]
    },
    {
      "cell_type": "markdown",
      "metadata": {
        "id": "HiavarlIqjV9"
      },
      "source": []
    },
    {
      "cell_type": "code",
      "execution_count": 58,
      "metadata": {
        "id": "IcMd0OHTph1D"
      },
      "outputs": [],
      "source": [
        "data.drop(columns = ['brokered_by' , 'zip_code', 'prev_sold_date'], inplace = True)"
      ]
    },
    {
      "cell_type": "code",
      "execution_count": 59,
      "metadata": {
        "colab": {
          "base_uri": "https://localhost:8080/",
          "height": 423
        },
        "id": "YBXEjULtqFRP",
        "outputId": "b6d044e3-0912-4ce5-eda5-6dde2376d32e"
      },
      "outputs": [
        {
          "data": {
            "text/html": [
              "<div>\n",
              "<style scoped>\n",
              "    .dataframe tbody tr th:only-of-type {\n",
              "        vertical-align: middle;\n",
              "    }\n",
              "\n",
              "    .dataframe tbody tr th {\n",
              "        vertical-align: top;\n",
              "    }\n",
              "\n",
              "    .dataframe thead th {\n",
              "        text-align: right;\n",
              "    }\n",
              "</style>\n",
              "<table border=\"1\" class=\"dataframe\">\n",
              "  <thead>\n",
              "    <tr style=\"text-align: right;\">\n",
              "      <th></th>\n",
              "      <th>status</th>\n",
              "      <th>price</th>\n",
              "      <th>bed</th>\n",
              "      <th>bath</th>\n",
              "      <th>acre_lot</th>\n",
              "      <th>street</th>\n",
              "      <th>city</th>\n",
              "      <th>state</th>\n",
              "      <th>house_size</th>\n",
              "    </tr>\n",
              "  </thead>\n",
              "  <tbody>\n",
              "    <tr>\n",
              "      <th>0</th>\n",
              "      <td>for_sale</td>\n",
              "      <td>105000.0</td>\n",
              "      <td>3.0</td>\n",
              "      <td>2.0</td>\n",
              "      <td>0.12</td>\n",
              "      <td>1962661.0</td>\n",
              "      <td>Adjuntas</td>\n",
              "      <td>Puerto Rico</td>\n",
              "      <td>920.0</td>\n",
              "    </tr>\n",
              "    <tr>\n",
              "      <th>1</th>\n",
              "      <td>for_sale</td>\n",
              "      <td>80000.0</td>\n",
              "      <td>4.0</td>\n",
              "      <td>2.0</td>\n",
              "      <td>0.08</td>\n",
              "      <td>1902874.0</td>\n",
              "      <td>Adjuntas</td>\n",
              "      <td>Puerto Rico</td>\n",
              "      <td>1527.0</td>\n",
              "    </tr>\n",
              "    <tr>\n",
              "      <th>2</th>\n",
              "      <td>for_sale</td>\n",
              "      <td>67000.0</td>\n",
              "      <td>2.0</td>\n",
              "      <td>1.0</td>\n",
              "      <td>0.15</td>\n",
              "      <td>1404990.0</td>\n",
              "      <td>Juana Diaz</td>\n",
              "      <td>Puerto Rico</td>\n",
              "      <td>748.0</td>\n",
              "    </tr>\n",
              "    <tr>\n",
              "      <th>3</th>\n",
              "      <td>for_sale</td>\n",
              "      <td>145000.0</td>\n",
              "      <td>4.0</td>\n",
              "      <td>2.0</td>\n",
              "      <td>0.10</td>\n",
              "      <td>1947675.0</td>\n",
              "      <td>Ponce</td>\n",
              "      <td>Puerto Rico</td>\n",
              "      <td>1800.0</td>\n",
              "    </tr>\n",
              "    <tr>\n",
              "      <th>4</th>\n",
              "      <td>for_sale</td>\n",
              "      <td>65000.0</td>\n",
              "      <td>6.0</td>\n",
              "      <td>2.0</td>\n",
              "      <td>0.05</td>\n",
              "      <td>331151.0</td>\n",
              "      <td>Mayaguez</td>\n",
              "      <td>Puerto Rico</td>\n",
              "      <td>NaN</td>\n",
              "    </tr>\n",
              "    <tr>\n",
              "      <th>...</th>\n",
              "      <td>...</td>\n",
              "      <td>...</td>\n",
              "      <td>...</td>\n",
              "      <td>...</td>\n",
              "      <td>...</td>\n",
              "      <td>...</td>\n",
              "      <td>...</td>\n",
              "      <td>...</td>\n",
              "      <td>...</td>\n",
              "    </tr>\n",
              "    <tr>\n",
              "      <th>2226377</th>\n",
              "      <td>sold</td>\n",
              "      <td>359900.0</td>\n",
              "      <td>4.0</td>\n",
              "      <td>2.0</td>\n",
              "      <td>0.33</td>\n",
              "      <td>353094.0</td>\n",
              "      <td>Richland</td>\n",
              "      <td>Washington</td>\n",
              "      <td>3600.0</td>\n",
              "    </tr>\n",
              "    <tr>\n",
              "      <th>2226378</th>\n",
              "      <td>sold</td>\n",
              "      <td>350000.0</td>\n",
              "      <td>3.0</td>\n",
              "      <td>2.0</td>\n",
              "      <td>0.10</td>\n",
              "      <td>1062149.0</td>\n",
              "      <td>Richland</td>\n",
              "      <td>Washington</td>\n",
              "      <td>1616.0</td>\n",
              "    </tr>\n",
              "    <tr>\n",
              "      <th>2226379</th>\n",
              "      <td>sold</td>\n",
              "      <td>440000.0</td>\n",
              "      <td>6.0</td>\n",
              "      <td>3.0</td>\n",
              "      <td>0.50</td>\n",
              "      <td>405677.0</td>\n",
              "      <td>Richland</td>\n",
              "      <td>Washington</td>\n",
              "      <td>3200.0</td>\n",
              "    </tr>\n",
              "    <tr>\n",
              "      <th>2226380</th>\n",
              "      <td>sold</td>\n",
              "      <td>179900.0</td>\n",
              "      <td>2.0</td>\n",
              "      <td>1.0</td>\n",
              "      <td>0.09</td>\n",
              "      <td>761379.0</td>\n",
              "      <td>Richland</td>\n",
              "      <td>Washington</td>\n",
              "      <td>933.0</td>\n",
              "    </tr>\n",
              "    <tr>\n",
              "      <th>2226381</th>\n",
              "      <td>sold</td>\n",
              "      <td>580000.0</td>\n",
              "      <td>5.0</td>\n",
              "      <td>3.0</td>\n",
              "      <td>0.31</td>\n",
              "      <td>307704.0</td>\n",
              "      <td>Richland</td>\n",
              "      <td>Washington</td>\n",
              "      <td>3615.0</td>\n",
              "    </tr>\n",
              "  </tbody>\n",
              "</table>\n",
              "<p>2226382 rows × 9 columns</p>\n",
              "</div>"
            ],
            "text/plain": [
              "           status     price  bed  bath  acre_lot     street        city  \\\n",
              "0        for_sale  105000.0  3.0   2.0      0.12  1962661.0    Adjuntas   \n",
              "1        for_sale   80000.0  4.0   2.0      0.08  1902874.0    Adjuntas   \n",
              "2        for_sale   67000.0  2.0   1.0      0.15  1404990.0  Juana Diaz   \n",
              "3        for_sale  145000.0  4.0   2.0      0.10  1947675.0       Ponce   \n",
              "4        for_sale   65000.0  6.0   2.0      0.05   331151.0    Mayaguez   \n",
              "...           ...       ...  ...   ...       ...        ...         ...   \n",
              "2226377      sold  359900.0  4.0   2.0      0.33   353094.0    Richland   \n",
              "2226378      sold  350000.0  3.0   2.0      0.10  1062149.0    Richland   \n",
              "2226379      sold  440000.0  6.0   3.0      0.50   405677.0    Richland   \n",
              "2226380      sold  179900.0  2.0   1.0      0.09   761379.0    Richland   \n",
              "2226381      sold  580000.0  5.0   3.0      0.31   307704.0    Richland   \n",
              "\n",
              "               state  house_size  \n",
              "0        Puerto Rico       920.0  \n",
              "1        Puerto Rico      1527.0  \n",
              "2        Puerto Rico       748.0  \n",
              "3        Puerto Rico      1800.0  \n",
              "4        Puerto Rico         NaN  \n",
              "...              ...         ...  \n",
              "2226377   Washington      3600.0  \n",
              "2226378   Washington      1616.0  \n",
              "2226379   Washington      3200.0  \n",
              "2226380   Washington       933.0  \n",
              "2226381   Washington      3615.0  \n",
              "\n",
              "[2226382 rows x 9 columns]"
            ]
          },
          "execution_count": 59,
          "metadata": {},
          "output_type": "execute_result"
        }
      ],
      "source": [
        "data"
      ]
    },
    {
      "cell_type": "code",
      "execution_count": 60,
      "metadata": {
        "colab": {
          "base_uri": "https://localhost:8080/"
        },
        "id": "Fb-6KCd-qmsX",
        "outputId": "734dd478-1b3b-4f27-b41c-76195482ceff"
      },
      "outputs": [
        {
          "data": {
            "text/plain": [
              "(2226382, 9)"
            ]
          },
          "execution_count": 60,
          "metadata": {},
          "output_type": "execute_result"
        }
      ],
      "source": [
        "data.shape"
      ]
    },
    {
      "cell_type": "code",
      "execution_count": 61,
      "metadata": {
        "colab": {
          "base_uri": "https://localhost:8080/"
        },
        "id": "CtcIPgcfqsBu",
        "outputId": "aa2efe0d-2665-49f0-dd3a-e7b7ac3df4f7"
      },
      "outputs": [
        {
          "data": {
            "text/plain": [
              "1900983"
            ]
          },
          "execution_count": 61,
          "metadata": {},
          "output_type": "execute_result"
        }
      ],
      "source": [
        "data.isna().sum().sum()"
      ]
    },
    {
      "cell_type": "code",
      "execution_count": 62,
      "metadata": {
        "id": "ZRmxTon_q6CA"
      },
      "outputs": [],
      "source": [
        "data.dropna(inplace = True)"
      ]
    },
    {
      "cell_type": "code",
      "execution_count": 63,
      "metadata": {
        "colab": {
          "base_uri": "https://localhost:8080/"
        },
        "id": "ez6twLGurFuf",
        "outputId": "9728f221-f35d-443c-b131-60266507a547"
      },
      "outputs": [
        {
          "data": {
            "text/plain": [
              "0"
            ]
          },
          "execution_count": 63,
          "metadata": {},
          "output_type": "execute_result"
        }
      ],
      "source": [
        "data.isna().sum().sum()"
      ]
    },
    {
      "cell_type": "code",
      "execution_count": 64,
      "metadata": {
        "colab": {
          "base_uri": "https://localhost:8080/",
          "height": 206
        },
        "id": "nvWFxX1urL9z",
        "outputId": "269447e4-50ce-4672-8e03-2ba8029d2cce"
      },
      "outputs": [
        {
          "data": {
            "text/html": [
              "<div>\n",
              "<style scoped>\n",
              "    .dataframe tbody tr th:only-of-type {\n",
              "        vertical-align: middle;\n",
              "    }\n",
              "\n",
              "    .dataframe tbody tr th {\n",
              "        vertical-align: top;\n",
              "    }\n",
              "\n",
              "    .dataframe thead th {\n",
              "        text-align: right;\n",
              "    }\n",
              "</style>\n",
              "<table border=\"1\" class=\"dataframe\">\n",
              "  <thead>\n",
              "    <tr style=\"text-align: right;\">\n",
              "      <th></th>\n",
              "      <th>status</th>\n",
              "      <th>price</th>\n",
              "      <th>bed</th>\n",
              "      <th>bath</th>\n",
              "      <th>acre_lot</th>\n",
              "      <th>street</th>\n",
              "      <th>city</th>\n",
              "      <th>state</th>\n",
              "      <th>house_size</th>\n",
              "    </tr>\n",
              "  </thead>\n",
              "  <tbody>\n",
              "    <tr>\n",
              "      <th>0</th>\n",
              "      <td>for_sale</td>\n",
              "      <td>105000.0</td>\n",
              "      <td>3.0</td>\n",
              "      <td>2.0</td>\n",
              "      <td>0.12</td>\n",
              "      <td>1962661.0</td>\n",
              "      <td>Adjuntas</td>\n",
              "      <td>Puerto Rico</td>\n",
              "      <td>920.0</td>\n",
              "    </tr>\n",
              "    <tr>\n",
              "      <th>1</th>\n",
              "      <td>for_sale</td>\n",
              "      <td>80000.0</td>\n",
              "      <td>4.0</td>\n",
              "      <td>2.0</td>\n",
              "      <td>0.08</td>\n",
              "      <td>1902874.0</td>\n",
              "      <td>Adjuntas</td>\n",
              "      <td>Puerto Rico</td>\n",
              "      <td>1527.0</td>\n",
              "    </tr>\n",
              "    <tr>\n",
              "      <th>2</th>\n",
              "      <td>for_sale</td>\n",
              "      <td>67000.0</td>\n",
              "      <td>2.0</td>\n",
              "      <td>1.0</td>\n",
              "      <td>0.15</td>\n",
              "      <td>1404990.0</td>\n",
              "      <td>Juana Diaz</td>\n",
              "      <td>Puerto Rico</td>\n",
              "      <td>748.0</td>\n",
              "    </tr>\n",
              "    <tr>\n",
              "      <th>3</th>\n",
              "      <td>for_sale</td>\n",
              "      <td>145000.0</td>\n",
              "      <td>4.0</td>\n",
              "      <td>2.0</td>\n",
              "      <td>0.10</td>\n",
              "      <td>1947675.0</td>\n",
              "      <td>Ponce</td>\n",
              "      <td>Puerto Rico</td>\n",
              "      <td>1800.0</td>\n",
              "    </tr>\n",
              "    <tr>\n",
              "      <th>5</th>\n",
              "      <td>for_sale</td>\n",
              "      <td>179000.0</td>\n",
              "      <td>4.0</td>\n",
              "      <td>3.0</td>\n",
              "      <td>0.46</td>\n",
              "      <td>1850806.0</td>\n",
              "      <td>San Sebastian</td>\n",
              "      <td>Puerto Rico</td>\n",
              "      <td>2520.0</td>\n",
              "    </tr>\n",
              "  </tbody>\n",
              "</table>\n",
              "</div>"
            ],
            "text/plain": [
              "     status     price  bed  bath  acre_lot     street           city  \\\n",
              "0  for_sale  105000.0  3.0   2.0      0.12  1962661.0       Adjuntas   \n",
              "1  for_sale   80000.0  4.0   2.0      0.08  1902874.0       Adjuntas   \n",
              "2  for_sale   67000.0  2.0   1.0      0.15  1404990.0     Juana Diaz   \n",
              "3  for_sale  145000.0  4.0   2.0      0.10  1947675.0          Ponce   \n",
              "5  for_sale  179000.0  4.0   3.0      0.46  1850806.0  San Sebastian   \n",
              "\n",
              "         state  house_size  \n",
              "0  Puerto Rico       920.0  \n",
              "1  Puerto Rico      1527.0  \n",
              "2  Puerto Rico       748.0  \n",
              "3  Puerto Rico      1800.0  \n",
              "5  Puerto Rico      2520.0  "
            ]
          },
          "execution_count": 64,
          "metadata": {},
          "output_type": "execute_result"
        }
      ],
      "source": [
        "data.head()"
      ]
    },
    {
      "cell_type": "code",
      "execution_count": 65,
      "metadata": {
        "colab": {
          "base_uri": "https://localhost:8080/"
        },
        "id": "-OWMwU0nrQwB",
        "outputId": "9afb9131-3a9e-458a-9323-f0149b3b0b7f"
      },
      "outputs": [
        {
          "data": {
            "text/plain": [
              "535"
            ]
          },
          "execution_count": 65,
          "metadata": {},
          "output_type": "execute_result"
        }
      ],
      "source": [
        "data.duplicated().sum()"
      ]
    },
    {
      "cell_type": "code",
      "execution_count": 66,
      "metadata": {
        "id": "L6poVJq3rWY0"
      },
      "outputs": [],
      "source": [
        "data.drop_duplicates(inplace = True)"
      ]
    },
    {
      "cell_type": "code",
      "execution_count": 67,
      "metadata": {
        "colab": {
          "base_uri": "https://localhost:8080/"
        },
        "id": "p86TI2Yyri6O",
        "outputId": "6497650a-55c1-4cc4-918b-6d1fd8fe1d31"
      },
      "outputs": [
        {
          "data": {
            "text/plain": [
              "0"
            ]
          },
          "execution_count": 67,
          "metadata": {},
          "output_type": "execute_result"
        }
      ],
      "source": [
        "data.duplicated().sum()"
      ]
    },
    {
      "cell_type": "code",
      "execution_count": 68,
      "metadata": {
        "colab": {
          "base_uri": "https://localhost:8080/",
          "height": 206
        },
        "id": "5JsWY_ajrlKL",
        "outputId": "d63d9769-03f3-4bbd-a6b7-22d08ee21a7e"
      },
      "outputs": [
        {
          "data": {
            "text/html": [
              "<div>\n",
              "<style scoped>\n",
              "    .dataframe tbody tr th:only-of-type {\n",
              "        vertical-align: middle;\n",
              "    }\n",
              "\n",
              "    .dataframe tbody tr th {\n",
              "        vertical-align: top;\n",
              "    }\n",
              "\n",
              "    .dataframe thead th {\n",
              "        text-align: right;\n",
              "    }\n",
              "</style>\n",
              "<table border=\"1\" class=\"dataframe\">\n",
              "  <thead>\n",
              "    <tr style=\"text-align: right;\">\n",
              "      <th></th>\n",
              "      <th>status</th>\n",
              "      <th>price</th>\n",
              "      <th>bed</th>\n",
              "      <th>bath</th>\n",
              "      <th>acre_lot</th>\n",
              "      <th>street</th>\n",
              "      <th>city</th>\n",
              "      <th>state</th>\n",
              "      <th>house_size</th>\n",
              "    </tr>\n",
              "  </thead>\n",
              "  <tbody>\n",
              "    <tr>\n",
              "      <th>0</th>\n",
              "      <td>for_sale</td>\n",
              "      <td>105000.0</td>\n",
              "      <td>3.0</td>\n",
              "      <td>2.0</td>\n",
              "      <td>0.12</td>\n",
              "      <td>1962661.0</td>\n",
              "      <td>Adjuntas</td>\n",
              "      <td>Puerto Rico</td>\n",
              "      <td>920.0</td>\n",
              "    </tr>\n",
              "    <tr>\n",
              "      <th>1</th>\n",
              "      <td>for_sale</td>\n",
              "      <td>80000.0</td>\n",
              "      <td>4.0</td>\n",
              "      <td>2.0</td>\n",
              "      <td>0.08</td>\n",
              "      <td>1902874.0</td>\n",
              "      <td>Adjuntas</td>\n",
              "      <td>Puerto Rico</td>\n",
              "      <td>1527.0</td>\n",
              "    </tr>\n",
              "    <tr>\n",
              "      <th>2</th>\n",
              "      <td>for_sale</td>\n",
              "      <td>67000.0</td>\n",
              "      <td>2.0</td>\n",
              "      <td>1.0</td>\n",
              "      <td>0.15</td>\n",
              "      <td>1404990.0</td>\n",
              "      <td>Juana Diaz</td>\n",
              "      <td>Puerto Rico</td>\n",
              "      <td>748.0</td>\n",
              "    </tr>\n",
              "    <tr>\n",
              "      <th>3</th>\n",
              "      <td>for_sale</td>\n",
              "      <td>145000.0</td>\n",
              "      <td>4.0</td>\n",
              "      <td>2.0</td>\n",
              "      <td>0.10</td>\n",
              "      <td>1947675.0</td>\n",
              "      <td>Ponce</td>\n",
              "      <td>Puerto Rico</td>\n",
              "      <td>1800.0</td>\n",
              "    </tr>\n",
              "    <tr>\n",
              "      <th>5</th>\n",
              "      <td>for_sale</td>\n",
              "      <td>179000.0</td>\n",
              "      <td>4.0</td>\n",
              "      <td>3.0</td>\n",
              "      <td>0.46</td>\n",
              "      <td>1850806.0</td>\n",
              "      <td>San Sebastian</td>\n",
              "      <td>Puerto Rico</td>\n",
              "      <td>2520.0</td>\n",
              "    </tr>\n",
              "  </tbody>\n",
              "</table>\n",
              "</div>"
            ],
            "text/plain": [
              "     status     price  bed  bath  acre_lot     street           city  \\\n",
              "0  for_sale  105000.0  3.0   2.0      0.12  1962661.0       Adjuntas   \n",
              "1  for_sale   80000.0  4.0   2.0      0.08  1902874.0       Adjuntas   \n",
              "2  for_sale   67000.0  2.0   1.0      0.15  1404990.0     Juana Diaz   \n",
              "3  for_sale  145000.0  4.0   2.0      0.10  1947675.0          Ponce   \n",
              "5  for_sale  179000.0  4.0   3.0      0.46  1850806.0  San Sebastian   \n",
              "\n",
              "         state  house_size  \n",
              "0  Puerto Rico       920.0  \n",
              "1  Puerto Rico      1527.0  \n",
              "2  Puerto Rico       748.0  \n",
              "3  Puerto Rico      1800.0  \n",
              "5  Puerto Rico      2520.0  "
            ]
          },
          "execution_count": 68,
          "metadata": {},
          "output_type": "execute_result"
        }
      ],
      "source": [
        "data.head()"
      ]
    },
    {
      "cell_type": "code",
      "execution_count": 69,
      "metadata": {
        "colab": {
          "base_uri": "https://localhost:8080/"
        },
        "id": "_ZR4phN_r-Gw",
        "outputId": "a48f023d-9e6b-421d-ddb3-1bad79ab6fc5"
      },
      "outputs": [
        {
          "data": {
            "text/plain": [
              "(1355862, 9)"
            ]
          },
          "execution_count": 69,
          "metadata": {},
          "output_type": "execute_result"
        }
      ],
      "source": [
        "data.shape"
      ]
    },
    {
      "cell_type": "code",
      "execution_count": 70,
      "metadata": {
        "colab": {
          "base_uri": "https://localhost:8080/",
          "height": 178
        },
        "id": "eV_dQhhwru5j",
        "outputId": "2a8b20d5-e961-4422-f36b-bcda1783da51"
      },
      "outputs": [
        {
          "data": {
            "text/plain": [
              "for_sale    747459\n",
              "sold        608403\n",
              "Name: status, dtype: int64"
            ]
          },
          "execution_count": 70,
          "metadata": {},
          "output_type": "execute_result"
        }
      ],
      "source": [
        "data[\"status\"].value_counts()"
      ]
    },
    {
      "cell_type": "code",
      "execution_count": 71,
      "metadata": {
        "id": "0Eg2o9v0tJz4"
      },
      "outputs": [],
      "source": [
        "import matplotlib.pyplot as plt"
      ]
    },
    {
      "cell_type": "code",
      "execution_count": 72,
      "metadata": {
        "colab": {
          "base_uri": "https://localhost:8080/",
          "height": 567
        },
        "id": "l6t-Drofr3pn",
        "outputId": "13949e4e-b788-4774-d321-cbc509699aca"
      },
      "outputs": [
        {
          "data": {
            "image/png": "[encoded data removed]",
            "text/plain": [
              "<Figure size 432x288 with 1 Axes>"
            ]
          },
          "metadata": {
            "needs_background": "light"
          },
          "output_type": "display_data"
        }
      ],
      "source": [
        "data[\"state\"].value_counts().sort_values(ascending = True).head(10).plot(kind = \"bar\")\n",
        "\n",
        "#let's make more prettier\n",
        "plt.title(\"Number of houses by state\")\n",
        "plt.xlabel(\"Listing Number\")\n",
        "plt.ylabel(\"State\")\n",
        "plt.show()"
      ]
    },
    {
      "cell_type": "code",
      "execution_count": 73,
      "metadata": {
        "colab": {
          "base_uri": "https://localhost:8080/",
          "height": 1000
        },
        "id": "FrRZog5gsYlc",
        "outputId": "e6d46c26-26ee-4813-ecd0-a8dc21591fa8"
      },
      "outputs": [
        {
          "data": {
            "text/plain": [
              "state\n",
              "Virgin Islands          1947522\n",
              "Hawaii                  1491548\n",
              "District of Columbia    1209649\n",
              "California              1107572\n",
              "Colorado                 952486\n",
              "Utah                     914531\n",
              "Montana                  862815\n",
              "Connecticut              790488\n",
              "Massachusetts            754230\n",
              "Nevada                   751439\n",
              "Washington               727478\n",
              "Wyoming                  719581\n",
              "Guam                     717504\n",
              "Idaho                    689815\n",
              "New York                 657557\n",
              "Florida                  649977\n",
              "Oregon                   645160\n",
              "New Hampshire            640991\n",
              "Puerto Rico              632210\n",
              "Vermont                  557932\n",
              "Arizona                  552891\n",
              "Virginia                 546274\n",
              "Alaska                   541288\n",
              "New Jersey               541131\n",
              "Maine                    517891\n",
              "Rhode Island             511094\n",
              "Maryland                 502889\n",
              "South Carolina           485025\n",
              "Tennessee                485018\n",
              "Texas                    450757\n",
              "South Dakota             440008\n",
              "North Carolina           438043\n",
              "Georgia                  422643\n",
              "Delaware                 422209\n",
              "New Mexico               410809\n",
              "Minnesota                400037\n",
              "Illinois                 357301\n",
              "Pennsylvania             343577\n",
              "Wisconsin                337633\n",
              "Arkansas                 337381\n",
              "North Dakota             329370\n",
              "Alabama                  328733\n",
              "Indiana                  326573\n",
              "Nebraska                 323478\n",
              "Louisiana                318076\n",
              "Michigan                 317558\n",
              "Missouri                 302160\n",
              "Kansas                   295016\n",
              "Kentucky                 294311\n",
              "Mississippi              293366\n",
              "Oklahoma                 284254\n",
              "West Virginia            261322\n",
              "Iowa                     255849\n",
              "Ohio                     234867\n",
              "Name: price, dtype: int32"
            ]
          },
          "execution_count": 73,
          "metadata": {},
          "output_type": "execute_result"
        }
      ],
      "source": [
        "data.groupby(\"state\")[\"price\"].mean().sort_values(ascending = False).astype(int)\n"
      ]
    },
    {
      "cell_type": "code",
      "execution_count": 74,
      "metadata": {
        "colab": {
          "base_uri": "https://localhost:8080/",
          "height": 489
        },
        "id": "B5zmnYo6upGq",
        "outputId": "1c16e552-0e0f-47d1-8013-bd3460b5688d"
      },
      "outputs": [
        {
          "data": {
            "text/plain": [
              "city\n",
              "International      2147483600\n",
              "Bolingbroke          45250000\n",
              "Bal Harbour          26585714\n",
              "Gulf Stream          21461250\n",
              "Woody Creek          20987500\n",
              "                      ...    \n",
              "Otter Rock              10033\n",
              "Midwest                 10000\n",
              "Center Junction          8500\n",
              "Rowan                    7500\n",
              "Pilot Mound              6500\n",
              "Name: price, Length: 17114, dtype: int32"
            ]
          },
          "execution_count": 74,
          "metadata": {},
          "output_type": "execute_result"
        }
      ],
      "source": [
        "data.groupby(\"city\")[\"price\"].mean().sort_values(ascending = False).astype(int)"
      ]
    },
    {
      "cell_type": "code",
      "execution_count": 75,
      "metadata": {
        "colab": {
          "base_uri": "https://localhost:8080/",
          "height": 423
        },
        "id": "10kRUPRvvLRC",
        "outputId": "f2f6beea-dc03-41e4-a2bf-2d8713c2a8ea"
      },
      "outputs": [
        {
          "data": {
            "text/html": [
              "<div>\n",
              "<style scoped>\n",
              "    .dataframe tbody tr th:only-of-type {\n",
              "        vertical-align: middle;\n",
              "    }\n",
              "\n",
              "    .dataframe tbody tr th {\n",
              "        vertical-align: top;\n",
              "    }\n",
              "\n",
              "    .dataframe thead th {\n",
              "        text-align: right;\n",
              "    }\n",
              "</style>\n",
              "<table border=\"1\" class=\"dataframe\">\n",
              "  <thead>\n",
              "    <tr style=\"text-align: right;\">\n",
              "      <th></th>\n",
              "      <th>state</th>\n",
              "      <th>city</th>\n",
              "      <th>price</th>\n",
              "    </tr>\n",
              "  </thead>\n",
              "  <tbody>\n",
              "    <tr>\n",
              "      <th>0</th>\n",
              "      <td>Alabama</td>\n",
              "      <td>Abbeville</td>\n",
              "      <td>2.201540e+05</td>\n",
              "    </tr>\n",
              "    <tr>\n",
              "      <th>1</th>\n",
              "      <td>Alabama</td>\n",
              "      <td>Adamsville</td>\n",
              "      <td>1.384411e+05</td>\n",
              "    </tr>\n",
              "    <tr>\n",
              "      <th>2</th>\n",
              "      <td>Alabama</td>\n",
              "      <td>Addison</td>\n",
              "      <td>1.459500e+05</td>\n",
              "    </tr>\n",
              "    <tr>\n",
              "      <th>3</th>\n",
              "      <td>Alabama</td>\n",
              "      <td>Adger</td>\n",
              "      <td>1.743727e+05</td>\n",
              "    </tr>\n",
              "    <tr>\n",
              "      <th>4</th>\n",
              "      <td>Alabama</td>\n",
              "      <td>Akron</td>\n",
              "      <td>4.389400e+05</td>\n",
              "    </tr>\n",
              "    <tr>\n",
              "      <th>...</th>\n",
              "      <td>...</td>\n",
              "      <td>...</td>\n",
              "      <td>...</td>\n",
              "    </tr>\n",
              "    <tr>\n",
              "      <th>26255</th>\n",
              "      <td>Wyoming</td>\n",
              "      <td>Wheatland</td>\n",
              "      <td>2.815783e+05</td>\n",
              "    </tr>\n",
              "    <tr>\n",
              "      <th>26256</th>\n",
              "      <td>Wyoming</td>\n",
              "      <td>Wilson</td>\n",
              "      <td>5.719900e+06</td>\n",
              "    </tr>\n",
              "    <tr>\n",
              "      <th>26257</th>\n",
              "      <td>Wyoming</td>\n",
              "      <td>Worland</td>\n",
              "      <td>2.889077e+05</td>\n",
              "    </tr>\n",
              "    <tr>\n",
              "      <th>26258</th>\n",
              "      <td>Wyoming</td>\n",
              "      <td>Wright</td>\n",
              "      <td>2.911600e+05</td>\n",
              "    </tr>\n",
              "    <tr>\n",
              "      <th>26259</th>\n",
              "      <td>Wyoming</td>\n",
              "      <td>Yoder</td>\n",
              "      <td>3.406667e+05</td>\n",
              "    </tr>\n",
              "  </tbody>\n",
              "</table>\n",
              "<p>26260 rows × 3 columns</p>\n",
              "</div>"
            ],
            "text/plain": [
              "         state        city         price\n",
              "0      Alabama   Abbeville  2.201540e+05\n",
              "1      Alabama  Adamsville  1.384411e+05\n",
              "2      Alabama     Addison  1.459500e+05\n",
              "3      Alabama       Adger  1.743727e+05\n",
              "4      Alabama       Akron  4.389400e+05\n",
              "...        ...         ...           ...\n",
              "26255  Wyoming   Wheatland  2.815783e+05\n",
              "26256  Wyoming      Wilson  5.719900e+06\n",
              "26257  Wyoming     Worland  2.889077e+05\n",
              "26258  Wyoming      Wright  2.911600e+05\n",
              "26259  Wyoming       Yoder  3.406667e+05\n",
              "\n",
              "[26260 rows x 3 columns]"
            ]
          },
          "execution_count": 75,
          "metadata": {},
          "output_type": "execute_result"
        }
      ],
      "source": [
        "#here I will perform multiindex group by\n",
        "data.groupby([\"state\" , \"city\"])[\"price\"].mean().reset_index()"
      ]
    },
    {
      "cell_type": "code",
      "execution_count": 76,
      "metadata": {
        "colab": {
          "base_uri": "https://localhost:8080/",
          "height": 423
        },
        "id": "On_Iwt6UvcCn",
        "outputId": "a1651325-d654-4c2f-9648-c3be3f205583"
      },
      "outputs": [
        {
          "data": {
            "text/html": [
              "<div>\n",
              "<style scoped>\n",
              "    .dataframe tbody tr th:only-of-type {\n",
              "        vertical-align: middle;\n",
              "    }\n",
              "\n",
              "    .dataframe tbody tr th {\n",
              "        vertical-align: top;\n",
              "    }\n",
              "\n",
              "    .dataframe thead th {\n",
              "        text-align: right;\n",
              "    }\n",
              "</style>\n",
              "<table border=\"1\" class=\"dataframe\">\n",
              "  <thead>\n",
              "    <tr style=\"text-align: right;\">\n",
              "      <th></th>\n",
              "      <th>status</th>\n",
              "      <th>price</th>\n",
              "      <th>bed</th>\n",
              "      <th>bath</th>\n",
              "      <th>acre_lot</th>\n",
              "      <th>street</th>\n",
              "      <th>city</th>\n",
              "      <th>state</th>\n",
              "      <th>house_size</th>\n",
              "    </tr>\n",
              "  </thead>\n",
              "  <tbody>\n",
              "    <tr>\n",
              "      <th>0</th>\n",
              "      <td>for_sale</td>\n",
              "      <td>105000.0</td>\n",
              "      <td>3.0</td>\n",
              "      <td>2.0</td>\n",
              "      <td>0.12</td>\n",
              "      <td>1962661.0</td>\n",
              "      <td>Adjuntas</td>\n",
              "      <td>Puerto Rico</td>\n",
              "      <td>920.0</td>\n",
              "    </tr>\n",
              "    <tr>\n",
              "      <th>1</th>\n",
              "      <td>for_sale</td>\n",
              "      <td>80000.0</td>\n",
              "      <td>4.0</td>\n",
              "      <td>2.0</td>\n",
              "      <td>0.08</td>\n",
              "      <td>1902874.0</td>\n",
              "      <td>Adjuntas</td>\n",
              "      <td>Puerto Rico</td>\n",
              "      <td>1527.0</td>\n",
              "    </tr>\n",
              "    <tr>\n",
              "      <th>2</th>\n",
              "      <td>for_sale</td>\n",
              "      <td>67000.0</td>\n",
              "      <td>2.0</td>\n",
              "      <td>1.0</td>\n",
              "      <td>0.15</td>\n",
              "      <td>1404990.0</td>\n",
              "      <td>Juana Diaz</td>\n",
              "      <td>Puerto Rico</td>\n",
              "      <td>748.0</td>\n",
              "    </tr>\n",
              "    <tr>\n",
              "      <th>3</th>\n",
              "      <td>for_sale</td>\n",
              "      <td>145000.0</td>\n",
              "      <td>4.0</td>\n",
              "      <td>2.0</td>\n",
              "      <td>0.10</td>\n",
              "      <td>1947675.0</td>\n",
              "      <td>Ponce</td>\n",
              "      <td>Puerto Rico</td>\n",
              "      <td>1800.0</td>\n",
              "    </tr>\n",
              "    <tr>\n",
              "      <th>5</th>\n",
              "      <td>for_sale</td>\n",
              "      <td>179000.0</td>\n",
              "      <td>4.0</td>\n",
              "      <td>3.0</td>\n",
              "      <td>0.46</td>\n",
              "      <td>1850806.0</td>\n",
              "      <td>San Sebastian</td>\n",
              "      <td>Puerto Rico</td>\n",
              "      <td>2520.0</td>\n",
              "    </tr>\n",
              "    <tr>\n",
              "      <th>...</th>\n",
              "      <td>...</td>\n",
              "      <td>...</td>\n",
              "      <td>...</td>\n",
              "      <td>...</td>\n",
              "      <td>...</td>\n",
              "      <td>...</td>\n",
              "      <td>...</td>\n",
              "      <td>...</td>\n",
              "      <td>...</td>\n",
              "    </tr>\n",
              "    <tr>\n",
              "      <th>2226377</th>\n",
              "      <td>sold</td>\n",
              "      <td>359900.0</td>\n",
              "      <td>4.0</td>\n",
              "      <td>2.0</td>\n",
              "      <td>0.33</td>\n",
              "      <td>353094.0</td>\n",
              "      <td>Richland</td>\n",
              "      <td>Washington</td>\n",
              "      <td>3600.0</td>\n",
              "    </tr>\n",
              "    <tr>\n",
              "      <th>2226378</th>\n",
              "      <td>sold</td>\n",
              "      <td>350000.0</td>\n",
              "      <td>3.0</td>\n",
              "      <td>2.0</td>\n",
              "      <td>0.10</td>\n",
              "      <td>1062149.0</td>\n",
              "      <td>Richland</td>\n",
              "      <td>Washington</td>\n",
              "      <td>1616.0</td>\n",
              "    </tr>\n",
              "    <tr>\n",
              "      <th>2226379</th>\n",
              "      <td>sold</td>\n",
              "      <td>440000.0</td>\n",
              "      <td>6.0</td>\n",
              "      <td>3.0</td>\n",
              "      <td>0.50</td>\n",
              "      <td>405677.0</td>\n",
              "      <td>Richland</td>\n",
              "      <td>Washington</td>\n",
              "      <td>3200.0</td>\n",
              "    </tr>\n",
              "    <tr>\n",
              "      <th>2226380</th>\n",
              "      <td>sold</td>\n",
              "      <td>179900.0</td>\n",
              "      <td>2.0</td>\n",
              "      <td>1.0</td>\n",
              "      <td>0.09</td>\n",
              "      <td>761379.0</td>\n",
              "      <td>Richland</td>\n",
              "      <td>Washington</td>\n",
              "      <td>933.0</td>\n",
              "    </tr>\n",
              "    <tr>\n",
              "      <th>2226381</th>\n",
              "      <td>sold</td>\n",
              "      <td>580000.0</td>\n",
              "      <td>5.0</td>\n",
              "      <td>3.0</td>\n",
              "      <td>0.31</td>\n",
              "      <td>307704.0</td>\n",
              "      <td>Richland</td>\n",
              "      <td>Washington</td>\n",
              "      <td>3615.0</td>\n",
              "    </tr>\n",
              "  </tbody>\n",
              "</table>\n",
              "<p>1355862 rows × 9 columns</p>\n",
              "</div>"
            ],
            "text/plain": [
              "           status     price  bed  bath  acre_lot     street           city  \\\n",
              "0        for_sale  105000.0  3.0   2.0      0.12  1962661.0       Adjuntas   \n",
              "1        for_sale   80000.0  4.0   2.0      0.08  1902874.0       Adjuntas   \n",
              "2        for_sale   67000.0  2.0   1.0      0.15  1404990.0     Juana Diaz   \n",
              "3        for_sale  145000.0  4.0   2.0      0.10  1947675.0          Ponce   \n",
              "5        for_sale  179000.0  4.0   3.0      0.46  1850806.0  San Sebastian   \n",
              "...           ...       ...  ...   ...       ...        ...            ...   \n",
              "2226377      sold  359900.0  4.0   2.0      0.33   353094.0       Richland   \n",
              "2226378      sold  350000.0  3.0   2.0      0.10  1062149.0       Richland   \n",
              "2226379      sold  440000.0  6.0   3.0      0.50   405677.0       Richland   \n",
              "2226380      sold  179900.0  2.0   1.0      0.09   761379.0       Richland   \n",
              "2226381      sold  580000.0  5.0   3.0      0.31   307704.0       Richland   \n",
              "\n",
              "               state  house_size  \n",
              "0        Puerto Rico       920.0  \n",
              "1        Puerto Rico      1527.0  \n",
              "2        Puerto Rico       748.0  \n",
              "3        Puerto Rico      1800.0  \n",
              "5        Puerto Rico      2520.0  \n",
              "...              ...         ...  \n",
              "2226377   Washington      3600.0  \n",
              "2226378   Washington      1616.0  \n",
              "2226379   Washington      3200.0  \n",
              "2226380   Washington       933.0  \n",
              "2226381   Washington      3615.0  \n",
              "\n",
              "[1355862 rows x 9 columns]"
            ]
          },
          "execution_count": 76,
          "metadata": {},
          "output_type": "execute_result"
        }
      ],
      "source": [
        "data"
      ]
    },
    {
      "cell_type": "code",
      "execution_count": 77,
      "metadata": {
        "colab": {
          "base_uri": "https://localhost:8080/",
          "height": 272
        },
        "id": "tG122IJ1vtTw",
        "outputId": "8fdcc540-9046-493e-b204-f25622f2ec7c"
      },
      "outputs": [
        {
          "data": {
            "text/plain": [
              "price         1.000000\n",
              "bed           0.117585\n",
              "bath          0.208868\n",
              "acre_lot      0.005304\n",
              "street        0.000481\n",
              "house_size    0.073849\n",
              "Name: price, dtype: float64"
            ]
          },
          "execution_count": 77,
          "metadata": {},
          "output_type": "execute_result"
        }
      ],
      "source": [
        "#calculate the correlation with the price column\n",
        "data.select_dtypes(include = \"number\").corr()[\"price\"]"
      ]
    },
    {
      "cell_type": "code",
      "execution_count": 78,
      "metadata": {
        "colab": {
          "base_uri": "https://localhost:8080/",
          "height": 423
        },
        "id": "uYff3eszv0tg",
        "outputId": "6f2448c2-686c-4dd3-cfca-923a16488edd"
      },
      "outputs": [
        {
          "data": {
            "text/html": [
              "<div>\n",
              "<style scoped>\n",
              "    .dataframe tbody tr th:only-of-type {\n",
              "        vertical-align: middle;\n",
              "    }\n",
              "\n",
              "    .dataframe tbody tr th {\n",
              "        vertical-align: top;\n",
              "    }\n",
              "\n",
              "    .dataframe thead th {\n",
              "        text-align: right;\n",
              "    }\n",
              "</style>\n",
              "<table border=\"1\" class=\"dataframe\">\n",
              "  <thead>\n",
              "    <tr style=\"text-align: right;\">\n",
              "      <th></th>\n",
              "      <th>status</th>\n",
              "      <th>price</th>\n",
              "      <th>bed</th>\n",
              "      <th>bath</th>\n",
              "      <th>acre_lot</th>\n",
              "      <th>street</th>\n",
              "      <th>city</th>\n",
              "      <th>state</th>\n",
              "      <th>house_size</th>\n",
              "    </tr>\n",
              "  </thead>\n",
              "  <tbody>\n",
              "    <tr>\n",
              "      <th>0</th>\n",
              "      <td>for_sale</td>\n",
              "      <td>105000.0</td>\n",
              "      <td>3.0</td>\n",
              "      <td>2.0</td>\n",
              "      <td>0.12</td>\n",
              "      <td>1962661.0</td>\n",
              "      <td>Adjuntas</td>\n",
              "      <td>Puerto Rico</td>\n",
              "      <td>920.0</td>\n",
              "    </tr>\n",
              "    <tr>\n",
              "      <th>1</th>\n",
              "      <td>for_sale</td>\n",
              "      <td>80000.0</td>\n",
              "      <td>4.0</td>\n",
              "      <td>2.0</td>\n",
              "      <td>0.08</td>\n",
              "      <td>1902874.0</td>\n",
              "      <td>Adjuntas</td>\n",
              "      <td>Puerto Rico</td>\n",
              "      <td>1527.0</td>\n",
              "    </tr>\n",
              "    <tr>\n",
              "      <th>2</th>\n",
              "      <td>for_sale</td>\n",
              "      <td>67000.0</td>\n",
              "      <td>2.0</td>\n",
              "      <td>1.0</td>\n",
              "      <td>0.15</td>\n",
              "      <td>1404990.0</td>\n",
              "      <td>Juana Diaz</td>\n",
              "      <td>Puerto Rico</td>\n",
              "      <td>748.0</td>\n",
              "    </tr>\n",
              "    <tr>\n",
              "      <th>3</th>\n",
              "      <td>for_sale</td>\n",
              "      <td>145000.0</td>\n",
              "      <td>4.0</td>\n",
              "      <td>2.0</td>\n",
              "      <td>0.10</td>\n",
              "      <td>1947675.0</td>\n",
              "      <td>Ponce</td>\n",
              "      <td>Puerto Rico</td>\n",
              "      <td>1800.0</td>\n",
              "    </tr>\n",
              "    <tr>\n",
              "      <th>5</th>\n",
              "      <td>for_sale</td>\n",
              "      <td>179000.0</td>\n",
              "      <td>4.0</td>\n",
              "      <td>3.0</td>\n",
              "      <td>0.46</td>\n",
              "      <td>1850806.0</td>\n",
              "      <td>San Sebastian</td>\n",
              "      <td>Puerto Rico</td>\n",
              "      <td>2520.0</td>\n",
              "    </tr>\n",
              "    <tr>\n",
              "      <th>...</th>\n",
              "      <td>...</td>\n",
              "      <td>...</td>\n",
              "      <td>...</td>\n",
              "      <td>...</td>\n",
              "      <td>...</td>\n",
              "      <td>...</td>\n",
              "      <td>...</td>\n",
              "      <td>...</td>\n",
              "      <td>...</td>\n",
              "    </tr>\n",
              "    <tr>\n",
              "      <th>2226377</th>\n",
              "      <td>sold</td>\n",
              "      <td>359900.0</td>\n",
              "      <td>4.0</td>\n",
              "      <td>2.0</td>\n",
              "      <td>0.33</td>\n",
              "      <td>353094.0</td>\n",
              "      <td>Richland</td>\n",
              "      <td>Washington</td>\n",
              "      <td>3600.0</td>\n",
              "    </tr>\n",
              "    <tr>\n",
              "      <th>2226378</th>\n",
              "      <td>sold</td>\n",
              "      <td>350000.0</td>\n",
              "      <td>3.0</td>\n",
              "      <td>2.0</td>\n",
              "      <td>0.10</td>\n",
              "      <td>1062149.0</td>\n",
              "      <td>Richland</td>\n",
              "      <td>Washington</td>\n",
              "      <td>1616.0</td>\n",
              "    </tr>\n",
              "    <tr>\n",
              "      <th>2226379</th>\n",
              "      <td>sold</td>\n",
              "      <td>440000.0</td>\n",
              "      <td>6.0</td>\n",
              "      <td>3.0</td>\n",
              "      <td>0.50</td>\n",
              "      <td>405677.0</td>\n",
              "      <td>Richland</td>\n",
              "      <td>Washington</td>\n",
              "      <td>3200.0</td>\n",
              "    </tr>\n",
              "    <tr>\n",
              "      <th>2226380</th>\n",
              "      <td>sold</td>\n",
              "      <td>179900.0</td>\n",
              "      <td>2.0</td>\n",
              "      <td>1.0</td>\n",
              "      <td>0.09</td>\n",
              "      <td>761379.0</td>\n",
              "      <td>Richland</td>\n",
              "      <td>Washington</td>\n",
              "      <td>933.0</td>\n",
              "    </tr>\n",
              "    <tr>\n",
              "      <th>2226381</th>\n",
              "      <td>sold</td>\n",
              "      <td>580000.0</td>\n",
              "      <td>5.0</td>\n",
              "      <td>3.0</td>\n",
              "      <td>0.31</td>\n",
              "      <td>307704.0</td>\n",
              "      <td>Richland</td>\n",
              "      <td>Washington</td>\n",
              "      <td>3615.0</td>\n",
              "    </tr>\n",
              "  </tbody>\n",
              "</table>\n",
              "<p>1355862 rows × 9 columns</p>\n",
              "</div>"
            ],
            "text/plain": [
              "           status     price  bed  bath  acre_lot     street           city  \\\n",
              "0        for_sale  105000.0  3.0   2.0      0.12  1962661.0       Adjuntas   \n",
              "1        for_sale   80000.0  4.0   2.0      0.08  1902874.0       Adjuntas   \n",
              "2        for_sale   67000.0  2.0   1.0      0.15  1404990.0     Juana Diaz   \n",
              "3        for_sale  145000.0  4.0   2.0      0.10  1947675.0          Ponce   \n",
              "5        for_sale  179000.0  4.0   3.0      0.46  1850806.0  San Sebastian   \n",
              "...           ...       ...  ...   ...       ...        ...            ...   \n",
              "2226377      sold  359900.0  4.0   2.0      0.33   353094.0       Richland   \n",
              "2226378      sold  350000.0  3.0   2.0      0.10  1062149.0       Richland   \n",
              "2226379      sold  440000.0  6.0   3.0      0.50   405677.0       Richland   \n",
              "2226380      sold  179900.0  2.0   1.0      0.09   761379.0       Richland   \n",
              "2226381      sold  580000.0  5.0   3.0      0.31   307704.0       Richland   \n",
              "\n",
              "               state  house_size  \n",
              "0        Puerto Rico       920.0  \n",
              "1        Puerto Rico      1527.0  \n",
              "2        Puerto Rico       748.0  \n",
              "3        Puerto Rico      1800.0  \n",
              "5        Puerto Rico      2520.0  \n",
              "...              ...         ...  \n",
              "2226377   Washington      3600.0  \n",
              "2226378   Washington      1616.0  \n",
              "2226379   Washington      3200.0  \n",
              "2226380   Washington       933.0  \n",
              "2226381   Washington      3615.0  \n",
              "\n",
              "[1355862 rows x 9 columns]"
            ]
          },
          "execution_count": 78,
          "metadata": {},
          "output_type": "execute_result"
        }
      ],
      "source": [
        "#just above we got if the bed will increase the price will increase and btw correlation takes values between 1 and -1, 1 = strong positive relationship, -1 = strong negative relationship\n",
        "\n",
        "# in 1 scenario, if one data point is increasing another will increase but in -1 scenario it's just opposite, if one data point is increasing other will be decreasing like this\n",
        "#above scenario will increase\n",
        "\n",
        "data\n"
      ]
    },
    {
      "cell_type": "code",
      "execution_count": 79,
      "metadata": {
        "id": "fIlxxP1NxVoV"
      },
      "outputs": [],
      "source": [
        "#let's start modelling\n",
        "x = data[[\"bed\" ,\"bath\" , \"house_size\"]]\n",
        "y = data[\"price\"]\n"
      ]
    },
    {
      "cell_type": "code",
      "execution_count": 80,
      "metadata": {
        "colab": {
          "base_uri": "https://localhost:8080/",
          "height": 423
        },
        "id": "zaIlGyWCx34D",
        "outputId": "1fe14441-8af8-4f27-a54d-b19d77e5ae6c"
      },
      "outputs": [
        {
          "data": {
            "text/html": [
              "<div>\n",
              "<style scoped>\n",
              "    .dataframe tbody tr th:only-of-type {\n",
              "        vertical-align: middle;\n",
              "    }\n",
              "\n",
              "    .dataframe tbody tr th {\n",
              "        vertical-align: top;\n",
              "    }\n",
              "\n",
              "    .dataframe thead th {\n",
              "        text-align: right;\n",
              "    }\n",
              "</style>\n",
              "<table border=\"1\" class=\"dataframe\">\n",
              "  <thead>\n",
              "    <tr style=\"text-align: right;\">\n",
              "      <th></th>\n",
              "      <th>bed</th>\n",
              "      <th>bath</th>\n",
              "      <th>house_size</th>\n",
              "    </tr>\n",
              "  </thead>\n",
              "  <tbody>\n",
              "    <tr>\n",
              "      <th>0</th>\n",
              "      <td>3.0</td>\n",
              "      <td>2.0</td>\n",
              "      <td>920.0</td>\n",
              "    </tr>\n",
              "    <tr>\n",
              "      <th>1</th>\n",
              "      <td>4.0</td>\n",
              "      <td>2.0</td>\n",
              "      <td>1527.0</td>\n",
              "    </tr>\n",
              "    <tr>\n",
              "      <th>2</th>\n",
              "      <td>2.0</td>\n",
              "      <td>1.0</td>\n",
              "      <td>748.0</td>\n",
              "    </tr>\n",
              "    <tr>\n",
              "      <th>3</th>\n",
              "      <td>4.0</td>\n",
              "      <td>2.0</td>\n",
              "      <td>1800.0</td>\n",
              "    </tr>\n",
              "    <tr>\n",
              "      <th>5</th>\n",
              "      <td>4.0</td>\n",
              "      <td>3.0</td>\n",
              "      <td>2520.0</td>\n",
              "    </tr>\n",
              "    <tr>\n",
              "      <th>...</th>\n",
              "      <td>...</td>\n",
              "      <td>...</td>\n",
              "      <td>...</td>\n",
              "    </tr>\n",
              "    <tr>\n",
              "      <th>2226377</th>\n",
              "      <td>4.0</td>\n",
              "      <td>2.0</td>\n",
              "      <td>3600.0</td>\n",
              "    </tr>\n",
              "    <tr>\n",
              "      <th>2226378</th>\n",
              "      <td>3.0</td>\n",
              "      <td>2.0</td>\n",
              "      <td>1616.0</td>\n",
              "    </tr>\n",
              "    <tr>\n",
              "      <th>2226379</th>\n",
              "      <td>6.0</td>\n",
              "      <td>3.0</td>\n",
              "      <td>3200.0</td>\n",
              "    </tr>\n",
              "    <tr>\n",
              "      <th>2226380</th>\n",
              "      <td>2.0</td>\n",
              "      <td>1.0</td>\n",
              "      <td>933.0</td>\n",
              "    </tr>\n",
              "    <tr>\n",
              "      <th>2226381</th>\n",
              "      <td>5.0</td>\n",
              "      <td>3.0</td>\n",
              "      <td>3615.0</td>\n",
              "    </tr>\n",
              "  </tbody>\n",
              "</table>\n",
              "<p>1355862 rows × 3 columns</p>\n",
              "</div>"
            ],
            "text/plain": [
              "         bed  bath  house_size\n",
              "0        3.0   2.0       920.0\n",
              "1        4.0   2.0      1527.0\n",
              "2        2.0   1.0       748.0\n",
              "3        4.0   2.0      1800.0\n",
              "5        4.0   3.0      2520.0\n",
              "...      ...   ...         ...\n",
              "2226377  4.0   2.0      3600.0\n",
              "2226378  3.0   2.0      1616.0\n",
              "2226379  6.0   3.0      3200.0\n",
              "2226380  2.0   1.0       933.0\n",
              "2226381  5.0   3.0      3615.0\n",
              "\n",
              "[1355862 rows x 3 columns]"
            ]
          },
          "execution_count": 80,
          "metadata": {},
          "output_type": "execute_result"
        }
      ],
      "source": [
        "x"
      ]
    },
    {
      "cell_type": "code",
      "execution_count": 81,
      "metadata": {
        "colab": {
          "base_uri": "https://localhost:8080/",
          "height": 458
        },
        "id": "ZqhAW-zhx4oY",
        "outputId": "9ad95799-4a00-4465-e635-8d4f515d02f9"
      },
      "outputs": [
        {
          "data": {
            "text/plain": [
              "0          105000.0\n",
              "1           80000.0\n",
              "2           67000.0\n",
              "3          145000.0\n",
              "5          179000.0\n",
              "             ...   \n",
              "2226377    359900.0\n",
              "2226378    350000.0\n",
              "2226379    440000.0\n",
              "2226380    179900.0\n",
              "2226381    580000.0\n",
              "Name: price, Length: 1355862, dtype: float64"
            ]
          },
          "execution_count": 81,
          "metadata": {},
          "output_type": "execute_result"
        }
      ],
      "source": [
        "y"
      ]
    },
    {
      "cell_type": "code",
      "execution_count": 82,
      "metadata": {
        "colab": {
          "base_uri": "https://localhost:8080/"
        },
        "id": "mgqCVdTJx5RH",
        "outputId": "d2038d6a-573f-4d13-d140-f6c6507b5593"
      },
      "outputs": [
        {
          "data": {
            "text/plain": [
              "Index(['bed', 'bath', 'house_size'], dtype='object')"
            ]
          },
          "execution_count": 82,
          "metadata": {},
          "output_type": "execute_result"
        }
      ],
      "source": [
        "#let's train linear regression model to scale my data\n",
        "x.columns"
      ]
    },
    {
      "cell_type": "code",
      "execution_count": 83,
      "metadata": {
        "id": "kE5MvcJmyZHg"
      },
      "outputs": [],
      "source": [
        "from sklearn.model_selection import train_test_split\n"
      ]
    },
    {
      "cell_type": "code",
      "execution_count": 84,
      "metadata": {
        "id": "bR00YOa50Euo"
      },
      "outputs": [],
      "source": [
        "#we use train_test_split because we evaluate our model with testing set and train our model with training set,\n",
        "#so we are evaluating it's performance with unseen data which is going to be our test and I specified testing size = 0.2 which means 20% of our data is going to be testing set and 80% of the data is going to at the training set\n",
        "x_train , x_test , y_train , y_test = train_test_split(x, y, test_size = 0.2)\n"
      ]
    },
    {
      "cell_type": "code",
      "execution_count": 85,
      "metadata": {
        "id": "RSYdpEEm2CfN"
      },
      "outputs": [],
      "source": [
        "from sklearn.preprocessing import StandardScaler"
      ]
    },
    {
      "cell_type": "code",
      "execution_count": 86,
      "metadata": {
        "id": "0AK7OF4_2F4O"
      },
      "outputs": [],
      "source": [
        "# on above cell 43 bed numbers are different which create an impact in modelling it's not scaled properly, so to scale it properly we use standardscaler\n",
        "#transforming the data to make it more suitable for modeling"
      ]
    },
    {
      "cell_type": "code",
      "execution_count": 87,
      "metadata": {
        "id": "IDUCsp1R2pa1"
      },
      "outputs": [],
      "source": [
        "scaler = StandardScaler()"
      ]
    },
    {
      "cell_type": "code",
      "execution_count": 88,
      "metadata": {
        "colab": {
          "base_uri": "https://localhost:8080/",
          "height": 423
        },
        "id": "rhpCHaPd2xso",
        "outputId": "bed3068b-78d2-4a01-f38e-c0f16e81af98"
      },
      "outputs": [
        {
          "data": {
            "text/html": [
              "<div>\n",
              "<style scoped>\n",
              "    .dataframe tbody tr th:only-of-type {\n",
              "        vertical-align: middle;\n",
              "    }\n",
              "\n",
              "    .dataframe tbody tr th {\n",
              "        vertical-align: top;\n",
              "    }\n",
              "\n",
              "    .dataframe thead th {\n",
              "        text-align: right;\n",
              "    }\n",
              "</style>\n",
              "<table border=\"1\" class=\"dataframe\">\n",
              "  <thead>\n",
              "    <tr style=\"text-align: right;\">\n",
              "      <th></th>\n",
              "      <th>bed</th>\n",
              "      <th>bath</th>\n",
              "      <th>house_size</th>\n",
              "    </tr>\n",
              "  </thead>\n",
              "  <tbody>\n",
              "    <tr>\n",
              "      <th>1979710</th>\n",
              "      <td>4.0</td>\n",
              "      <td>4.0</td>\n",
              "      <td>3311.0</td>\n",
              "    </tr>\n",
              "    <tr>\n",
              "      <th>1372157</th>\n",
              "      <td>3.0</td>\n",
              "      <td>3.0</td>\n",
              "      <td>1542.0</td>\n",
              "    </tr>\n",
              "    <tr>\n",
              "      <th>1494777</th>\n",
              "      <td>3.0</td>\n",
              "      <td>3.0</td>\n",
              "      <td>2500.0</td>\n",
              "    </tr>\n",
              "    <tr>\n",
              "      <th>1586799</th>\n",
              "      <td>5.0</td>\n",
              "      <td>3.0</td>\n",
              "      <td>2334.0</td>\n",
              "    </tr>\n",
              "    <tr>\n",
              "      <th>2062281</th>\n",
              "      <td>2.0</td>\n",
              "      <td>3.0</td>\n",
              "      <td>1389.0</td>\n",
              "    </tr>\n",
              "    <tr>\n",
              "      <th>...</th>\n",
              "      <td>...</td>\n",
              "      <td>...</td>\n",
              "      <td>...</td>\n",
              "    </tr>\n",
              "    <tr>\n",
              "      <th>426563</th>\n",
              "      <td>3.0</td>\n",
              "      <td>2.0</td>\n",
              "      <td>1660.0</td>\n",
              "    </tr>\n",
              "    <tr>\n",
              "      <th>2014129</th>\n",
              "      <td>5.0</td>\n",
              "      <td>4.0</td>\n",
              "      <td>3475.0</td>\n",
              "    </tr>\n",
              "    <tr>\n",
              "      <th>1948224</th>\n",
              "      <td>4.0</td>\n",
              "      <td>2.0</td>\n",
              "      <td>2110.0</td>\n",
              "    </tr>\n",
              "    <tr>\n",
              "      <th>351361</th>\n",
              "      <td>3.0</td>\n",
              "      <td>3.0</td>\n",
              "      <td>1600.0</td>\n",
              "    </tr>\n",
              "    <tr>\n",
              "      <th>615090</th>\n",
              "      <td>3.0</td>\n",
              "      <td>3.0</td>\n",
              "      <td>3800.0</td>\n",
              "    </tr>\n",
              "  </tbody>\n",
              "</table>\n",
              "<p>1084689 rows × 3 columns</p>\n",
              "</div>"
            ],
            "text/plain": [
              "         bed  bath  house_size\n",
              "1979710  4.0   4.0      3311.0\n",
              "1372157  3.0   3.0      1542.0\n",
              "1494777  3.0   3.0      2500.0\n",
              "1586799  5.0   3.0      2334.0\n",
              "2062281  2.0   3.0      1389.0\n",
              "...      ...   ...         ...\n",
              "426563   3.0   2.0      1660.0\n",
              "2014129  5.0   4.0      3475.0\n",
              "1948224  4.0   2.0      2110.0\n",
              "351361   3.0   3.0      1600.0\n",
              "615090   3.0   3.0      3800.0\n",
              "\n",
              "[1084689 rows x 3 columns]"
            ]
          },
          "execution_count": 88,
          "metadata": {},
          "output_type": "execute_result"
        }
      ],
      "source": [
        "x_train"
      ]
    },
    {
      "cell_type": "code",
      "execution_count": 89,
      "metadata": {
        "id": "yTEy4K7P273W"
      },
      "outputs": [],
      "source": [
        "x_train = scaler.fit_transform(x_train)"
      ]
    },
    {
      "cell_type": "code",
      "execution_count": 90,
      "metadata": {
        "colab": {
          "base_uri": "https://localhost:8080/"
        },
        "id": "P8tJErQe3BaL",
        "outputId": "57f2edfe-f405-401d-db8f-c10f0d16044e"
      },
      "outputs": [
        {
          "data": {
            "text/plain": [
              "array([[ 0.42172324,  1.07009764,  0.28007703],\n",
              "       [-0.26581931,  0.33611125, -0.13685175],\n",
              "       [-0.26581931,  0.33611125,  0.08893557],\n",
              "       ...,\n",
              "       [ 0.42172324, -0.39787514, -0.00298202],\n",
              "       [-0.26581931,  0.33611125, -0.12318195],\n",
              "       [-0.26581931,  0.33611125,  0.39532755]])"
            ]
          },
          "execution_count": 90,
          "metadata": {},
          "output_type": "execute_result"
        }
      ],
      "source": [
        "x_train"
      ]
    },
    {
      "cell_type": "code",
      "execution_count": 91,
      "metadata": {
        "colab": {
          "base_uri": "https://localhost:8080/"
        },
        "id": "w1bAOQeM3C1S",
        "outputId": "75009c75-9da4-4d66-c7b3-a527573563dc"
      },
      "outputs": [
        {
          "data": {
            "text/plain": [
              "['Scaler.pkl']"
            ]
          },
          "execution_count": 91,
          "metadata": {},
          "output_type": "execute_result"
        }
      ],
      "source": [
        "#we don't want data leakage so we have to export scaler so\n",
        "import joblib\n",
        "joblib.dump(scaler , \"Scaler.pkl\")"
      ]
    },
    {
      "cell_type": "code",
      "execution_count": 92,
      "metadata": {
        "id": "9x8unvgB4XY6"
      },
      "outputs": [],
      "source": [
        "x_test = scaler.fit_transform(x_test)"
      ]
    },
    {
      "cell_type": "code",
      "execution_count": 93,
      "metadata": {
        "id": "-DmXMOWC4icS"
      },
      "outputs": [],
      "source": [
        "#now we are ready  to train our model.\n",
        "from sklearn.linear_model import LinearRegression"
      ]
    },
    {
      "cell_type": "code",
      "execution_count": 94,
      "metadata": {
        "id": "nmcfos7L4trB"
      },
      "outputs": [],
      "source": [
        "lr = LinearRegression()"
      ]
    },
    {
      "cell_type": "code",
      "execution_count": 95,
      "metadata": {
        "colab": {
          "base_uri": "https://localhost:8080/",
          "height": 80
        },
        "id": "-7j10-yt4xh_",
        "outputId": "f46a3f79-922d-4100-dd15-898f671149b0"
      },
      "outputs": [
        {
          "data": {
            "text/html": [
              "<style>#sk-container-id-2 {color: black;background-color: white;}#sk-container-id-2 pre{padding: 0;}#sk-container-id-2 div.sk-toggleable {background-color: white;}#sk-container-id-2 label.sk-toggleable__label {cursor: pointer;display: block;width: 100%;margin-bottom: 0;padding: 0.3em;box-sizing: border-box;text-align: center;}#sk-container-id-2 label.sk-toggleable__label-arrow:before {content: \"▸\";float: left;margin-right: 0.25em;color: #696969;}#sk-container-id-2 label.sk-toggleable__label-arrow:hover:before {color: black;}#sk-container-id-2 div.sk-estimator:hover label.sk-toggleable__label-arrow:before {color: black;}#sk-container-id-2 div.sk-toggleable__content {max-height: 0;max-width: 0;overflow: hidden;text-align: left;background-color: #f0f8ff;}#sk-container-id-2 div.sk-toggleable__content pre {margin: 0.2em;color: black;border-radius: 0.25em;background-color: #f0f8ff;}#sk-container-id-2 input.sk-toggleable__control:checked~div.sk-toggleable__content {max-height: 200px;max-width: 100%;overflow: auto;}#sk-container-id-2 input.sk-toggleable__control:checked~label.sk-toggleable__label-arrow:before {content: \"▾\";}#sk-container-id-2 div.sk-estimator input.sk-toggleable__control:checked~label.sk-toggleable__label {background-color: #d4ebff;}#sk-container-id-2 div.sk-label input.sk-toggleable__control:checked~label.sk-toggleable__label {background-color: #d4ebff;}#sk-container-id-2 input.sk-hidden--visually {border: 0;clip: rect(1px 1px 1px 1px);clip: rect(1px, 1px, 1px, 1px);height: 1px;margin: -1px;overflow: hidden;padding: 0;position: absolute;width: 1px;}#sk-container-id-2 div.sk-estimator {font-family: monospace;background-color: #f0f8ff;border: 1px dotted black;border-radius: 0.25em;box-sizing: border-box;margin-bottom: 0.5em;}#sk-container-id-2 div.sk-estimator:hover {background-color: #d4ebff;}#sk-container-id-2 div.sk-parallel-item::after {content: \"\";width: 100%;border-bottom: 1px solid gray;flex-grow: 1;}#sk-container-id-2 div.sk-label:hover label.sk-toggleable__label {background-color: #d4ebff;}#sk-container-id-2 div.sk-serial::before {content: \"\";position: absolute;border-left: 1px solid gray;box-sizing: border-box;top: 0;bottom: 0;left: 50%;z-index: 0;}#sk-container-id-2 div.sk-serial {display: flex;flex-direction: column;align-items: center;background-color: white;padding-right: 0.2em;padding-left: 0.2em;position: relative;}#sk-container-id-2 div.sk-item {position: relative;z-index: 1;}#sk-container-id-2 div.sk-parallel {display: flex;align-items: stretch;justify-content: center;background-color: white;position: relative;}#sk-container-id-2 div.sk-item::before, #sk-container-id-2 div.sk-parallel-item::before {content: \"\";position: absolute;border-left: 1px solid gray;box-sizing: border-box;top: 0;bottom: 0;left: 50%;z-index: -1;}#sk-container-id-2 div.sk-parallel-item {display: flex;flex-direction: column;z-index: 1;position: relative;background-color: white;}#sk-container-id-2 div.sk-parallel-item:first-child::after {align-self: flex-end;width: 50%;}#sk-container-id-2 div.sk-parallel-item:last-child::after {align-self: flex-start;width: 50%;}#sk-container-id-2 div.sk-parallel-item:only-child::after {width: 0;}#sk-container-id-2 div.sk-dashed-wrapped {border: 1px dashed gray;margin: 0 0.4em 0.5em 0.4em;box-sizing: border-box;padding-bottom: 0.4em;background-color: white;}#sk-container-id-2 div.sk-label label {font-family: monospace;font-weight: bold;display: inline-block;line-height: 1.2em;}#sk-container-id-2 div.sk-label-container {text-align: center;}#sk-container-id-2 div.sk-container {/* jupyter's `normalize.less` sets `[hidden] { display: none; }` but bootstrap.min.css set `[hidden] { display: none !important; }` so we also need the `!important` here to be able to override the default hidden behavior on the sphinx rendered scikit-learn.org. See: https://github.com/scikit-learn/scikit-learn/issues/21755 */display: inline-block !important;position: relative;}#sk-container-id-2 div.sk-text-repr-fallback {display: none;}</style><div id=\"sk-container-id-2\" class=\"sk-top-container\"><div class=\"sk-text-repr-fallback\"><pre>LinearRegression()</pre><b>In a Jupyter environment, please rerun this cell to show the HTML representation or trust the notebook. <br />On GitHub, the HTML representation is unable to render, please try loading this page with nbviewer.org.</b></div><div class=\"sk-container\" hidden><div class=\"sk-item\"><div class=\"sk-estimator sk-toggleable\"><input class=\"sk-toggleable__control sk-hidden--visually\" id=\"sk-estimator-id-2\" type=\"checkbox\" checked><label for=\"sk-estimator-id-2\" class=\"sk-toggleable__label sk-toggleable__label-arrow\">LinearRegression</label><div class=\"sk-toggleable__content\"><pre>LinearRegression()</pre></div></div></div></div></div>"
            ],
            "text/plain": [
              "LinearRegression()"
            ]
          },
          "execution_count": 95,
          "metadata": {},
          "output_type": "execute_result"
        }
      ],
      "source": [
        "lr.fit(x_train , y_train)"
      ]
    },
    {
      "cell_type": "code",
      "execution_count": 96,
      "metadata": {
        "id": "n8ob5q2m43OO"
      },
      "outputs": [],
      "source": [
        "predictions = lr.predict(x_test)"
      ]
    },
    {
      "cell_type": "code",
      "execution_count": 97,
      "metadata": {
        "id": "Aq1P8E6N5EXq"
      },
      "outputs": [],
      "source": [
        "#now we can calculate the performance\n",
        "from sklearn.metrics import mean_absolute_error , mean_squared_error , r2_score"
      ]
    },
    {
      "cell_type": "code",
      "execution_count": 98,
      "metadata": {
        "colab": {
          "base_uri": "https://localhost:8080/"
        },
        "id": "5v9gfkkF5XH1",
        "outputId": "4f626f3c-1edc-4fa5-ef6e-5e6af472fd77"
      },
      "outputs": [
        {
          "data": {
            "text/plain": [
              "351971.39200894727"
            ]
          },
          "execution_count": 98,
          "metadata": {},
          "output_type": "execute_result"
        }
      ],
      "source": [
        "mean_absolute_error(y_test , predictions)"
      ]
    },
    {
      "cell_type": "code",
      "execution_count": 99,
      "metadata": {
        "colab": {
          "base_uri": "https://localhost:8080/",
          "height": 335
        },
        "id": "pLkHdF9L5lDX",
        "outputId": "45d3b355-2534-4fec-93f6-51a09a9c60df"
      },
      "outputs": [
        {
          "data": {
            "text/plain": [
              "count       1355862\n",
              "mean         574225\n",
              "std         2212087\n",
              "min               0\n",
              "25%          239000\n",
              "50%          379000\n",
              "75%          600000\n",
              "max      2147483600\n",
              "Name: price, dtype: int32"
            ]
          },
          "execution_count": 99,
          "metadata": {},
          "output_type": "execute_result"
        }
      ],
      "source": [
        "#from here you can evaluate whether it's good or bad, like we have 362963.0369197618 which is smaller than mean 574668\n",
        "data[\"price\"].describe().astype(int )"
      ]
    },
    {
      "cell_type": "code",
      "execution_count": 100,
      "metadata": {
        "colab": {
          "base_uri": "https://localhost:8080/"
        },
        "id": "ePNY7V8059RT",
        "outputId": "a346966a-7996-4b41-920d-dc38ff942278"
      },
      "outputs": [
        {
          "data": {
            "text/plain": [
              "['Model.pkl']"
            ]
          },
          "execution_count": 100,
          "metadata": {},
          "output_type": "execute_result"
        }
      ],
      "source": [
        "#let's export this\n",
        "joblib.dump(lr , \"Model.pkl\")"
      ]
    }
  ],
  "metadata": {
    "colab": {
      "provenance": []
    },
    "kernelspec": {
      "display_name": "Python 3",
      "name": "python3"
    },
    "language_info": {
      "codemirror_mode": {
        "name": "ipython",
        "version": 3
      },
      "file_extension": ".py",
      "mimetype": "text/x-python",
      "name": "python",
      "nbconvert_exporter": "python",
      "pygments_lexer": "ipython3",
      "version": "3.8.8"
    }
  },
  "nbformat": 4,
  "nbformat_minor": 0
}
